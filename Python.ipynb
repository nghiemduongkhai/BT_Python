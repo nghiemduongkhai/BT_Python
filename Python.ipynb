{
  "nbformat": 4,
  "nbformat_minor": 0,
  "metadata": {
    "colab": {
      "provenance": []
    },
    "kernelspec": {
      "name": "python3",
      "display_name": "Python 3"
    },
    "language_info": {
      "name": "python"
    }
  },
  "cells": [
    {
      "cell_type": "markdown",
      "source": [
        "# 1"
      ],
      "metadata": {
        "id": "jLuHtDLdxRrr"
      }
    },
    {
      "cell_type": "code",
      "execution_count": null,
      "metadata": {
        "colab": {
          "base_uri": "https://localhost:8080/"
        },
        "id": "HlObQtWmSkaN",
        "outputId": "d4e1631b-7b24-460b-c0e4-bce433d63d53"
      },
      "outputs": [
        {
          "output_type": "stream",
          "name": "stdout",
          "text": [
            "Nhap chuoi: heeeehehe\n",
            "Chuoi co 9 ky tu\n"
          ]
        }
      ],
      "source": [
        "_string = input('Nhap chuoi: ')\n",
        "len_string = len(_string)\n",
        "print(f'Chuoi co {len_string} ky tu')"
      ]
    },
    {
      "cell_type": "markdown",
      "source": [
        "# 2"
      ],
      "metadata": {
        "id": "e-GvsrAwx0fS"
      }
    },
    {
      "cell_type": "code",
      "source": [
        "_string = input('Nhap chuoi: ')\n",
        "import collections\n",
        "ketqua = ', '.join(f'{i}:{collections.Counter(_string)[i]}' for i in set(_string))\n",
        "print(ketqua)"
      ],
      "metadata": {
        "colab": {
          "base_uri": "https://localhost:8080/"
        },
        "id": "tSmgOy7Dx0ox",
        "outputId": "2b398f77-d162-45c7-c026-c5ddcb07a23c"
      },
      "execution_count": null,
      "outputs": [
        {
          "output_type": "stream",
          "name": "stdout",
          "text": [
            "Nhap chuoi: xinchao\n",
            "c:1, a:1, i:1, h:1, n:1, x:1, o:1\n"
          ]
        }
      ]
    },
    {
      "cell_type": "markdown",
      "source": [
        "# 3"
      ],
      "metadata": {
        "id": "zq1gVPaM0G0E"
      }
    },
    {
      "cell_type": "code",
      "source": [
        "_string = input('Nhap chuoi: ')\n",
        "if len(_string) >= 2:\n",
        "    print(f'{_string[:2]}{_string[-2:]}')\n",
        "else:\n",
        "    print(' Empty String')"
      ],
      "metadata": {
        "colab": {
          "base_uri": "https://localhost:8080/"
        },
        "id": "NPvgSXW54FK3",
        "outputId": "4ca24311-b3b6-427b-bbd8-4681448978f5"
      },
      "execution_count": null,
      "outputs": [
        {
          "output_type": "stream",
          "name": "stdout",
          "text": [
            "Nhap chuoi: w3chonhd\n",
            "w3hd\n"
          ]
        }
      ]
    },
    {
      "cell_type": "markdown",
      "source": [
        "# 4"
      ],
      "metadata": {
        "id": "bDd3lQ_r4F7H"
      }
    },
    {
      "cell_type": "code",
      "source": [
        "_string = input('Nhap chuoi: ')\n",
        "print(_string[0]+_string[1:].replace(_string[0],'$'))"
      ],
      "metadata": {
        "colab": {
          "base_uri": "https://localhost:8080/"
        },
        "id": "yeFpb70R0IbJ",
        "outputId": "672349c3-d673-4688-ccd7-70b059ab7dd5"
      },
      "execution_count": null,
      "outputs": [
        {
          "output_type": "stream",
          "name": "stdout",
          "text": [
            "Nhap chuoi: chaocauca\n",
            "chao$au$a\n"
          ]
        }
      ]
    },
    {
      "cell_type": "markdown",
      "source": [
        "# 5"
      ],
      "metadata": {
        "id": "SxCvquid4LZf"
      }
    },
    {
      "cell_type": "code",
      "source": [
        "_string1 = input('Nhap chuoi 1: ')\n",
        "_string2 = input('Nhap chuoi 2: ')\n",
        "\n",
        "if len(_string1) < 2 or len(_string2) < 2:\n",
        "    print('Co chuoi it hon 2 ki tu !!')\n",
        "else:\n",
        "    print(f'{_string2[:2]}{_string1[2:]} {_string1[:2]}{_string2[2:]}')\n"
      ],
      "metadata": {
        "id": "DCizj3qL4Lo8",
        "colab": {
          "base_uri": "https://localhost:8080/"
        },
        "outputId": "b9564716-5dea-4637-a5f5-6bfd9bcbeda7"
      },
      "execution_count": null,
      "outputs": [
        {
          "output_type": "stream",
          "name": "stdout",
          "text": [
            "Nhap chuoi 1: abc\n",
            "Nhap chuoi 2: xyz\n",
            "xyc abz\n"
          ]
        }
      ]
    },
    {
      "cell_type": "markdown",
      "source": [
        "#6"
      ],
      "metadata": {
        "id": "E9op_l6-1HeB"
      }
    },
    {
      "cell_type": "code",
      "source": [
        "_string = input('Nhap chuoi: ')\n",
        "if len(_string) >= 3:\n",
        "    if _string[-3:] == 'ing':\n",
        "        print(_string+'ly')\n",
        "    else:\n",
        "        print(_string+'ing')\n",
        "else:\n",
        "    print(_string)"
      ],
      "metadata": {
        "colab": {
          "base_uri": "https://localhost:8080/"
        },
        "id": "L0wzXoay1Ot5",
        "outputId": "f00993ff-9bc1-4e68-9ecb-01b170c60d2b"
      },
      "execution_count": null,
      "outputs": [
        {
          "output_type": "stream",
          "name": "stdout",
          "text": [
            "Nhap chuoi: string\n",
            "stringly\n"
          ]
        }
      ]
    },
    {
      "cell_type": "markdown",
      "source": [
        "#7"
      ],
      "metadata": {
        "id": "zN6a01Lz1PnA"
      }
    },
    {
      "cell_type": "code",
      "source": [
        "_string = input('Nhap chuoi: ')\n",
        "if 'not' in _string and 'poor' in _string:\n",
        "    not_index = _string.index('not')\n",
        "    poor_index = _string.index('poor')\n",
        "    if not_index < poor_index:\n",
        "        _string = _string.replace(_string[not_index:poor_index+4], 'good')\n",
        "print(_string)"
      ],
      "metadata": {
        "colab": {
          "base_uri": "https://localhost:8080/"
        },
        "id": "4g_shQVv1TdB",
        "outputId": "9720b254-81ab-4b92-b92b-2e3dd3662b9d"
      },
      "execution_count": null,
      "outputs": [
        {
          "output_type": "stream",
          "name": "stdout",
          "text": [
            "Nhap chuoi: The lyrics is not that poor!\n",
            "The lyrics is good!\n"
          ]
        }
      ]
    },
    {
      "cell_type": "markdown",
      "source": [
        "#8"
      ],
      "metadata": {
        "id": "bZC3_xNb1UC8"
      }
    },
    {
      "cell_type": "code",
      "source": [
        "_string = input('Nhap chuoi: ')\n",
        "if len(_string.strip()) >= 1:\n",
        "    longest_Word = max(_string.split(), key=len)\n",
        "    len_longestWord = len(longest_Word)\n",
        "    print(f'Longest word: {longest_Word}')\n",
        "    print(f'Length of the longest word: {len_longestWord}')\n",
        "else:\n",
        "    print('Empty String')"
      ],
      "metadata": {
        "id": "wUtQn3U11UUc",
        "colab": {
          "base_uri": "https://localhost:8080/"
        },
        "outputId": "c98efb5a-e7d3-4cd1-8a44-7cbc4023b469"
      },
      "execution_count": null,
      "outputs": [
        {
          "output_type": "stream",
          "name": "stdout",
          "text": [
            "Nhap chuoi: Hello moi nguoi nha\n",
            "Longest word: Hello\n",
            "Length of the longest word: 5\n"
          ]
        }
      ]
    },
    {
      "cell_type": "markdown",
      "source": [
        "#9"
      ],
      "metadata": {
        "id": "EKGR38vP1a-L"
      }
    },
    {
      "cell_type": "code",
      "source": [
        "_string = input('Nhap chuoi: ')\n",
        "if len(_string.strip()) >= 1:\n",
        "    idx = int(input('Nhap vị tri ki tu loại bỏ: '))\n",
        "    print(_string[:idx]+_string[idx+1:])\n",
        "else:\n",
        "    print('Empty String')"
      ],
      "metadata": {
        "id": "Q5ZsLLg61Z4t",
        "colab": {
          "base_uri": "https://localhost:8080/"
        },
        "outputId": "d361797b-2c87-4b7a-af82-9e8bd52cef55"
      },
      "execution_count": null,
      "outputs": [
        {
          "output_type": "stream",
          "name": "stdout",
          "text": [
            "Nhap chuoi: Nghiejm\n",
            "Nhap vị tri ki tu loại bỏ: 5\n",
            "Nghiem\n"
          ]
        }
      ]
    },
    {
      "cell_type": "markdown",
      "source": [
        "#10"
      ],
      "metadata": {
        "id": "vrP4Eti31eoL"
      }
    },
    {
      "cell_type": "code",
      "source": [
        "_string = input('Nhap chuoi: ')\n",
        "if len(_string.strip()) >= 1:\n",
        "    print(_string[-1:]+_string[1:-1]+_string[:1])\n",
        "elif len(_string.strip()) == 1:\n",
        "    print('Chuoi co 1 ki tu')\n",
        "else:\n",
        "    print('Empty String')"
      ],
      "metadata": {
        "id": "CnL2RFxi1dY8",
        "colab": {
          "base_uri": "https://localhost:8080/"
        },
        "outputId": "9ccd2361-545d-41ff-ee83-37fc3ea5ffbb"
      },
      "execution_count": null,
      "outputs": [
        {
          "output_type": "stream",
          "name": "stdout",
          "text": [
            "Nhap chuoi: mghien\n",
            "nghiem\n"
          ]
        }
      ]
    },
    {
      "cell_type": "markdown",
      "source": [
        "#11"
      ],
      "metadata": {
        "id": "l5kASIBq1hA9"
      }
    },
    {
      "cell_type": "code",
      "source": [
        "_string = input('Nhap chuoi: ')\n",
        "if len(_string.strip()) >= 1:\n",
        "    print(_string[::2])\n",
        "else:\n",
        "    print('Empty String')"
      ],
      "metadata": {
        "id": "394bLEhu1hQ9",
        "colab": {
          "base_uri": "https://localhost:8080/"
        },
        "outputId": "0e64c8ea-9e8e-4568-c5c8-0c483dabaece"
      },
      "execution_count": 2,
      "outputs": [
        {
          "output_type": "stream",
          "name": "stdout",
          "text": [
            "Nhap chuoi: n1g2h3i4e5m6\n",
            "nghiem\n"
          ]
        }
      ]
    },
    {
      "cell_type": "markdown",
      "source": [
        "#12"
      ],
      "metadata": {
        "id": "d-ZhnLF-1kxM"
      }
    },
    {
      "cell_type": "code",
      "source": [
        "import re\n",
        "_string = input('Nhap cau: ')\n",
        "list_word = re.split(r'[,\\s]+', _string.lower())\n",
        "dem = {}\n",
        "for i in list_word:\n",
        "    if i not in dem:\n",
        "        dem[i] = 1\n",
        "    else:\n",
        "        dem[i] += 1\n",
        "\n",
        "for word, count in dem.items():\n",
        "    print(f'{word}:{count}')"
      ],
      "metadata": {
        "id": "s7X44etE1mcD",
        "colab": {
          "base_uri": "https://localhost:8080/"
        },
        "outputId": "3cf472fd-f570-49d4-d5c1-5e9ced4c7e10"
      },
      "execution_count": 14,
      "outputs": [
        {
          "output_type": "stream",
          "name": "stdout",
          "text": [
            "Nhap cau: Chao cac ban, cac ban khoe chu\n",
            "chao:1\n",
            "cac:2\n",
            "ban:2\n",
            "khoe:1\n",
            "chu:1\n"
          ]
        }
      ]
    },
    {
      "cell_type": "markdown",
      "source": [
        "#13"
      ],
      "metadata": {
        "id": "CQTLfZWP1qtU"
      }
    },
    {
      "cell_type": "code",
      "source": [
        "_string = input('Nhap chuoi: ')\n",
        "print(_string.upper())\n",
        "print(_string.lower())"
      ],
      "metadata": {
        "id": "SGSf1CqX1n87",
        "colab": {
          "base_uri": "https://localhost:8080/"
        },
        "outputId": "802490e3-6eb8-4e78-a3d1-a33d9980d19b"
      },
      "execution_count": 15,
      "outputs": [
        {
          "output_type": "stream",
          "name": "stdout",
          "text": [
            "Nhap chuoi: NghIEm\n",
            "NGHIEM\n",
            "nghiem\n"
          ]
        }
      ]
    },
    {
      "cell_type": "markdown",
      "source": [
        "#14"
      ],
      "metadata": {
        "id": "g07KVFPE1sjE"
      }
    },
    {
      "cell_type": "code",
      "source": [
        "_string = input('Nhap chuoi: ')\n",
        "list_word = _string.split(',')\n",
        "\n",
        "list_word = [word.strip() for word in list_word]\n",
        "list_word = list(set(list_word))\n",
        "\n",
        "list_word.sort()\n",
        "print(','.join(list_word))"
      ],
      "metadata": {
        "id": "pUP6iYSX1t2N",
        "colab": {
          "base_uri": "https://localhost:8080/"
        },
        "outputId": "e930fff4-7e3d-4873-c79c-f7a193bfe485"
      },
      "execution_count": 29,
      "outputs": [
        {
          "output_type": "stream",
          "name": "stdout",
          "text": [
            "Nhap chuoi:  red, white, black, red, green, black\n",
            "black,green,red,white\n"
          ]
        }
      ]
    },
    {
      "cell_type": "markdown",
      "source": [
        "#15"
      ],
      "metadata": {
        "id": "MAWaPIkp1uNc"
      }
    },
    {
      "cell_type": "code",
      "source": [
        "def add_tags(tag, text):\n",
        "    return f\"<{tag}>{text}</{tag}>\"\n",
        "\n",
        "tag = input('Nhap tag: ')\n",
        "text = input('Nhap text: ')\n",
        "print(f'{add_tags(tag, text)}')"
      ],
      "metadata": {
        "id": "v7hGWF581wAG",
        "colab": {
          "base_uri": "https://localhost:8080/"
        },
        "outputId": "0e87ce85-7761-4e16-bc82-688282b6f814"
      },
      "execution_count": 31,
      "outputs": [
        {
          "output_type": "stream",
          "name": "stdout",
          "text": [
            "Nhap tag: i\n",
            "Nhap text: Python\n",
            "<i>Python</i>\n"
          ]
        }
      ]
    },
    {
      "cell_type": "markdown",
      "source": [
        "#16"
      ],
      "metadata": {
        "id": "vWJ69dqt1wdd"
      }
    },
    {
      "cell_type": "code",
      "source": [
        "def insert_sting_middle(middle, string):\n",
        "    return middle[:len(middle)//2] + string + middle[len(middle)//2:]\n",
        "\n",
        "middle = input('Nhap chuoi: ')\n",
        "string = input('Nhap chuoi: ')\n",
        "print(f'{insert_sting_middle(middle, string)}')"
      ],
      "metadata": {
        "id": "UuVqHWUg1xos",
        "colab": {
          "base_uri": "https://localhost:8080/"
        },
        "outputId": "ac1354bd-cb1a-4f85-e38d-6b14b46c4a77"
      },
      "execution_count": 35,
      "outputs": [
        {
          "output_type": "stream",
          "name": "stdout",
          "text": [
            "Nhap chuoi: <<>>\n",
            "Nhap chuoi: Python\n",
            "<<Python>>\n"
          ]
        }
      ]
    },
    {
      "cell_type": "markdown",
      "source": [
        "#17"
      ],
      "metadata": {
        "id": "xgsmO9Yw1yJO"
      }
    },
    {
      "cell_type": "code",
      "source": [
        "def insert_end(string):\n",
        "  if len(string) >= 2:\n",
        "    return string[-2:]*4\n",
        "\n",
        "string = input('Nhap chuoi: ')\n",
        "print(f'{insert_end(string)}')"
      ],
      "metadata": {
        "id": "i0ErYUHK1zU8",
        "colab": {
          "base_uri": "https://localhost:8080/"
        },
        "outputId": "4aa7cd7f-3060-4985-fe47-4bd0edca57b3"
      },
      "execution_count": 37,
      "outputs": [
        {
          "output_type": "stream",
          "name": "stdout",
          "text": [
            "Nhap chuoi: python\n",
            "onononon\n"
          ]
        }
      ]
    },
    {
      "cell_type": "markdown",
      "source": [
        "#18"
      ],
      "metadata": {
        "id": "Ki5kKomH1ztv"
      }
    },
    {
      "cell_type": "code",
      "source": [
        "def first_three(string):\n",
        "  if len(string) >= 3:\n",
        "    return string[:3]\n",
        "  else:\n",
        "    return string\n",
        "\n",
        "string = input('Nhap chuoi: ')\n",
        "print(f'{first_three(string)}')"
      ],
      "metadata": {
        "id": "3Ac6At39102W",
        "colab": {
          "base_uri": "https://localhost:8080/"
        },
        "outputId": "c968f70d-8e63-489d-f16d-381e59d00f19"
      },
      "execution_count": 40,
      "outputs": [
        {
          "output_type": "stream",
          "name": "stdout",
          "text": [
            "Nhap chuoi: python\n",
            "pyt\n"
          ]
        }
      ]
    },
    {
      "cell_type": "markdown",
      "source": [
        "#19"
      ],
      "metadata": {
        "id": "GuRfwhoi11QU"
      }
    },
    {
      "cell_type": "code",
      "source": [
        "_string = input('Nhap chuoi: ')\n",
        "_char = input('Nhap ki tu: ')\n",
        "ind = _string.find(_char)\n",
        "if ind != -1:\n",
        "    _string = _string[:ind]\n",
        "    print(_string)\n",
        "else:\n",
        "    print('Ki tu khong ton tai trong chuoi')"
      ],
      "metadata": {
        "id": "E4tA2VDJ12R0",
        "colab": {
          "base_uri": "https://localhost:8080/"
        },
        "outputId": "e18bc07b-b898-40b6-a17e-cd75e9564545"
      },
      "execution_count": 42,
      "outputs": [
        {
          "output_type": "stream",
          "name": "stdout",
          "text": [
            "Nhap chuoi: Pyhon3.0-web\n",
            "Nhap ki tu: -\n",
            "Pyhon3.0\n"
          ]
        }
      ]
    },
    {
      "cell_type": "markdown",
      "source": [
        "#20"
      ],
      "metadata": {
        "id": "iyI5Z2LH12p0"
      }
    },
    {
      "cell_type": "code",
      "source": [
        "def reverse_if_multiple_of_4(s):\n",
        "    if len(s) % 4 == 0:\n",
        "        return s[::-1]\n",
        "    return s\n",
        "_string = input('Nhap chuoi: ')\n",
        "print(f'{reverse_if_multiple_of_4(_string)}')"
      ],
      "metadata": {
        "id": "fauf4tXL13yI",
        "colab": {
          "base_uri": "https://localhost:8080/"
        },
        "outputId": "a885335a-923c-4adc-8ee2-efb48f17b42e"
      },
      "execution_count": 51,
      "outputs": [
        {
          "output_type": "stream",
          "name": "stdout",
          "text": [
            "Nhap chuoi: chao\n",
            "oahc\n"
          ]
        }
      ]
    },
    {
      "cell_type": "markdown",
      "source": [
        "#21"
      ],
      "metadata": {
        "id": "Op7OUVY614dw"
      }
    },
    {
      "cell_type": "code",
      "source": [
        "def convert_to_upper_if_needed(s):\n",
        "    count = 0\n",
        "    for char in s:\n",
        "        if char.isupper():\n",
        "            count += 1\n",
        "\n",
        "    if count >= 2:\n",
        "        return s.upper()\n",
        "    return s\n",
        "\n",
        "_string = input('Nhap chuoi: ')\n",
        "print(f'{convert_to_upper_if_needed(_string)}')"
      ],
      "metadata": {
        "id": "sGpdoI1T15ay",
        "colab": {
          "base_uri": "https://localhost:8080/"
        },
        "outputId": "ba7d08f7-03d7-4df5-af58-0f3670342f82"
      },
      "execution_count": 52,
      "outputs": [
        {
          "output_type": "stream",
          "name": "stdout",
          "text": [
            "Nhap chuoi: ChaO ban\n",
            "CHAO BAN\n"
          ]
        }
      ]
    },
    {
      "cell_type": "markdown",
      "source": [
        "#22"
      ],
      "metadata": {
        "id": "n-K2JSxA15uY"
      }
    },
    {
      "cell_type": "code",
      "source": [
        "def sort_string_lexicographically(s):\n",
        "    return ''.join(sorted(s))\n",
        "\n",
        "_string = input('Nhap chuoi: ').lower()\n",
        "print(f'{sort_string_lexicographically(_string)}')"
      ],
      "metadata": {
        "id": "0A8Dze-D167v",
        "colab": {
          "base_uri": "https://localhost:8080/"
        },
        "outputId": "42af90ff-2f85-4510-8a7a-11b049106ba4"
      },
      "execution_count": 53,
      "outputs": [
        {
          "output_type": "stream",
          "name": "stdout",
          "text": [
            "Nhap chuoi: Nghiem\n",
            "eghimn\n"
          ]
        }
      ]
    },
    {
      "cell_type": "markdown",
      "source": [
        "#23"
      ],
      "metadata": {
        "id": "zp9DikUQ17ON"
      }
    },
    {
      "cell_type": "code",
      "source": [
        "_string = '''Hoc\n",
        "Python''' #'Hoc \\nPython'\n",
        "print(_string.replace('\\n', ''))"
      ],
      "metadata": {
        "id": "qWOxuZSz18M5",
        "colab": {
          "base_uri": "https://localhost:8080/"
        },
        "outputId": "8dd498e7-4eb8-4446-ed03-35d1a694676f"
      },
      "execution_count": 65,
      "outputs": [
        {
          "output_type": "stream",
          "name": "stdout",
          "text": [
            "Hoc Python\n"
          ]
        }
      ]
    },
    {
      "cell_type": "markdown",
      "source": [
        "#24"
      ],
      "metadata": {
        "id": "y11Y7OX418t4"
      }
    },
    {
      "cell_type": "code",
      "source": [
        "_string = input('Nhap chuoi: ')\n",
        "_char = input('Nhap ki tu: ')\n",
        "print(f'{_string} bat dau bang {_char} ?')\n",
        "print(_string.startswith(_char))"
      ],
      "metadata": {
        "id": "quNIYdZP19w6",
        "colab": {
          "base_uri": "https://localhost:8080/"
        },
        "outputId": "0d07f0f8-cfb9-4cd8-e521-a90ad0a0969b"
      },
      "execution_count": 74,
      "outputs": [
        {
          "output_type": "stream",
          "name": "stdout",
          "text": [
            "Nhap chuoi: Python\n",
            "Nhap ki tu: Py\n",
            "Python bat dau bang Py ?\n",
            "True\n"
          ]
        }
      ]
    },
    {
      "cell_type": "markdown",
      "source": [
        "#25"
      ],
      "metadata": {
        "id": "InfoBe6e1-HY"
      }
    },
    {
      "cell_type": "code",
      "source": [
        "_string = input('Nhap chuoi: ')\n",
        "shift = int(input('Nhap shift: '))\n",
        "result = ''\n",
        "for char in _string:\n",
        "    if char.isupper():\n",
        "        result += chr((ord(char) + shift - 65) % 26 + 65)\n",
        "    elif char.islower():\n",
        "        result += chr((ord(char) + shift - 97) % 26 + 97)\n",
        "    else:\n",
        "        result += char\n",
        "print(result)"
      ],
      "metadata": {
        "id": "_H01rnLN1_OA",
        "colab": {
          "base_uri": "https://localhost:8080/"
        },
        "outputId": "e43e1cff-7b0d-4b74-f0d0-70b75ab2a1d1"
      },
      "execution_count": 76,
      "outputs": [
        {
          "output_type": "stream",
          "name": "stdout",
          "text": [
            "Nhap chuoi: Python\n",
            "Nhap shift: 3\n",
            "Sbwkrq\n"
          ]
        }
      ]
    },
    {
      "cell_type": "markdown",
      "source": [
        "#26"
      ],
      "metadata": {
        "id": "xN9MAXME1_so"
      }
    },
    {
      "cell_type": "code",
      "source": [
        "_string = input('Nhap chuoi: ')\n",
        "width = int(input('Nhap chieu rong: '))\n",
        "for i in range(0, len(_string), width):\n",
        "        print(_string[i:i+width])"
      ],
      "metadata": {
        "id": "XT3EdKvy2Ahv",
        "colab": {
          "base_uri": "https://localhost:8080/"
        },
        "outputId": "599c686c-e8e2-4885-e7e1-f09a3be6fe26"
      },
      "execution_count": 79,
      "outputs": [
        {
          "output_type": "stream",
          "name": "stdout",
          "text": [
            "Nhap chuoi: For example, with a left shift of 3, D would be replaced by A, E would become B, and so on. The method is named after Julius Caesar, who used it in his private correspondence.\n",
            "Nhap chieu rong: 50\n",
            "For example, with a left shift of 3, D would be re\n",
            "placed by A, E would become B, and so on. The meth\n",
            "od is named after Julius Caesar, who used it in hi\n",
            "s private correspondence.\n"
          ]
        }
      ]
    },
    {
      "cell_type": "markdown",
      "source": [
        "#27"
      ],
      "metadata": {
        "id": "zJhfkTwJ2AwY"
      }
    },
    {
      "cell_type": "code",
      "source": [
        "text = '''For example, with a left shift of 3, D would be replaced\n",
        "    by A, E would become B, and so on. The method is named after Julius Caesar,\n",
        "      who used it in his\n",
        "private correspondence.'''\n",
        "lines = text.splitlines()\n",
        "updated_lines = [line.lstrip() for line in lines]\n",
        "print(\"\\n\".join(lines))"
      ],
      "metadata": {
        "id": "faz9zKnn2ByY",
        "colab": {
          "base_uri": "https://localhost:8080/"
        },
        "outputId": "267ac13b-0460-46d8-899b-9dd2d87e8930"
      },
      "execution_count": 80,
      "outputs": [
        {
          "output_type": "stream",
          "name": "stdout",
          "text": [
            "For example, with a left shift of 3, D would be replaced \n",
            "by A, E would become B, and so on. The method is named after Julius Caesar, \n",
            "who used it in his\n",
            "private correspondence.\n"
          ]
        }
      ]
    },
    {
      "cell_type": "markdown",
      "source": [
        "#28"
      ],
      "metadata": {
        "id": "q8NTNRqP2CIw"
      }
    },
    {
      "cell_type": "code",
      "source": [
        "text = '''For example, with a left shift of 3, D would be replaced\n",
        "by A, E would become B, and so on. The method is named after Julius Caesar,\n",
        "who used it in his private correspondence.'''\n",
        "lines = text.splitlines()\n",
        "updated_lines = ['+ ' + line for line in lines]\n",
        "print('\\n'.join(updated_lines))"
      ],
      "metadata": {
        "id": "TTrnDdYh2DOw",
        "colab": {
          "base_uri": "https://localhost:8080/"
        },
        "outputId": "ef7b9001-8b42-47a6-86c5-93fdbe75f6a5"
      },
      "execution_count": 83,
      "outputs": [
        {
          "output_type": "stream",
          "name": "stdout",
          "text": [
            "+ For example, with a left shift of 3, D would be replaced \n",
            "+ by A, E would become B, and so on. The method is named after Julius Caesar, \n",
            "+ who used it in his private correspondence.\n"
          ]
        }
      ]
    },
    {
      "cell_type": "markdown",
      "source": [
        "#29"
      ],
      "metadata": {
        "id": "VZ4UwCwe2LHx"
      }
    },
    {
      "cell_type": "code",
      "source": [
        "text = '''For example, with a left shift of 3, D would be replaced\n",
        "by A, E would become B, and so on. The method is named after Julius Caesar,\n",
        "who used it in his private correspondence.'''\n",
        "lines = text.splitlines()\n",
        "lines[0] = '\\t' + lines[0]\n",
        "print('\\n'.join(lines))"
      ],
      "metadata": {
        "id": "MKMc170H2MB_",
        "colab": {
          "base_uri": "https://localhost:8080/"
        },
        "outputId": "7381aa6b-cee4-4036-b77a-dfad8ab7fba8"
      },
      "execution_count": 86,
      "outputs": [
        {
          "output_type": "stream",
          "name": "stdout",
          "text": [
            "\tFor example, with a left shift of 3, D would be replaced \n",
            "by A, E would become B, and so on. The method is named after Julius Caesar, \n",
            "who used it in his private correspondence.\n"
          ]
        }
      ]
    },
    {
      "cell_type": "markdown",
      "source": [
        "#30"
      ],
      "metadata": {
        "id": "dq8kIDZ92MkQ"
      }
    },
    {
      "cell_type": "code",
      "source": [
        "numbers = [3.141, 2.7189, 0.3666, 10.0]\n",
        "for num in numbers:\n",
        "    print(f\"{num:.2f}\")"
      ],
      "metadata": {
        "id": "8TtWGLz92OAx",
        "colab": {
          "base_uri": "https://localhost:8080/"
        },
        "outputId": "675b9df0-3dec-4ab3-eb55-2cea95032366"
      },
      "execution_count": 87,
      "outputs": [
        {
          "output_type": "stream",
          "name": "stdout",
          "text": [
            "3.14\n",
            "2.72\n",
            "0.37\n",
            "10.00\n"
          ]
        }
      ]
    },
    {
      "cell_type": "markdown",
      "source": [
        "#31"
      ],
      "metadata": {
        "id": "YFJqZQ4Y2Oda"
      }
    },
    {
      "cell_type": "code",
      "source": [
        "numbers = [3.141, -2.7189, -0.3666, 10.0]\n",
        "for num in numbers:\n",
        "    print(f\"{num:+.2f}\")"
      ],
      "metadata": {
        "id": "omzc8GfR2PjA",
        "colab": {
          "base_uri": "https://localhost:8080/"
        },
        "outputId": "062c406d-0af0-43d5-ef42-b567d090ee1b"
      },
      "execution_count": 90,
      "outputs": [
        {
          "output_type": "stream",
          "name": "stdout",
          "text": [
            "+3.14\n",
            "-2.72\n",
            "-0.37\n",
            "+10.00\n"
          ]
        }
      ]
    },
    {
      "cell_type": "markdown",
      "source": [
        "#32"
      ],
      "metadata": {
        "id": "T1pMgVz22P9B"
      }
    },
    {
      "cell_type": "code",
      "source": [
        "numbers = [3.141, -2.7189, -0.3666, 10.0]\n",
        "for num in numbers:\n",
        "    print(f\"{int(num):+d}\")"
      ],
      "metadata": {
        "id": "-oOK9IDN2RNg",
        "colab": {
          "base_uri": "https://localhost:8080/"
        },
        "outputId": "8b35022f-cb0f-43ec-f47a-0b8efe11e639"
      },
      "execution_count": 93,
      "outputs": [
        {
          "output_type": "stream",
          "name": "stdout",
          "text": [
            "+3\n",
            "-2\n",
            "+0\n",
            "+10\n"
          ]
        }
      ]
    },
    {
      "cell_type": "markdown",
      "source": [
        "#33"
      ],
      "metadata": {
        "id": "sGI-KdYb2Rmh"
      }
    },
    {
      "cell_type": "code",
      "source": [
        "numbers = [7, 10, 110]\n",
        "for num in numbers:\n",
        "    print(f\"{num:05d}\")"
      ],
      "metadata": {
        "id": "F0_YxZ6H2SjY",
        "colab": {
          "base_uri": "https://localhost:8080/"
        },
        "outputId": "c9ea1afa-23ad-4213-8b92-87d46eaab100"
      },
      "execution_count": 100,
      "outputs": [
        {
          "output_type": "stream",
          "name": "stdout",
          "text": [
            "00007\n",
            "00010\n",
            "00110\n"
          ]
        }
      ]
    },
    {
      "cell_type": "markdown",
      "source": [
        "#34"
      ],
      "metadata": {
        "id": "rzl64J8T2S6w"
      }
    },
    {
      "cell_type": "code",
      "source": [
        "numbers = [7, 10, 110]\n",
        "for num in numbers:\n",
        "    print(f\"{str(num):<5}\".replace(' ', '*'))"
      ],
      "metadata": {
        "id": "0BgWpq2z2ULw",
        "colab": {
          "base_uri": "https://localhost:8080/"
        },
        "outputId": "22c0f2ca-a620-4e3b-b149-a120698e1f9c"
      },
      "execution_count": 105,
      "outputs": [
        {
          "output_type": "stream",
          "name": "stdout",
          "text": [
            "7****\n",
            "10***\n",
            "110**\n"
          ]
        }
      ]
    },
    {
      "cell_type": "markdown",
      "source": [
        "#35"
      ],
      "metadata": {
        "id": "U0b6oJyJ2UdQ"
      }
    },
    {
      "cell_type": "code",
      "source": [
        "num = 2025\n",
        "print(f\"{num:,}\")"
      ],
      "metadata": {
        "id": "vqdnyEZ-2VgB",
        "colab": {
          "base_uri": "https://localhost:8080/"
        },
        "outputId": "93b4a11a-8c1e-4eb4-d502-13cb3f1166e4"
      },
      "execution_count": 116,
      "outputs": [
        {
          "output_type": "stream",
          "name": "stdout",
          "text": [
            "2,025\n"
          ]
        }
      ]
    },
    {
      "cell_type": "markdown",
      "source": [
        "#36"
      ],
      "metadata": {
        "id": "e1dr5ywb2V74"
      }
    },
    {
      "cell_type": "code",
      "source": [
        "ratio = 0.457\n",
        "print(f\"{ratio:.1%}\")"
      ],
      "metadata": {
        "colab": {
          "base_uri": "https://localhost:8080/"
        },
        "id": "h-uLstdh9lc5",
        "outputId": "bfd02d30-9e15-4c8b-85f4-2bda48018bda"
      },
      "execution_count": 114,
      "outputs": [
        {
          "output_type": "stream",
          "name": "stdout",
          "text": [
            "45.7%\n"
          ]
        }
      ]
    },
    {
      "cell_type": "markdown",
      "source": [
        "#37"
      ],
      "metadata": {
        "id": "Kf0xHDyt2YEA"
      }
    },
    {
      "cell_type": "code",
      "source": [
        "num = 10\n",
        "print(f\"{num:<10}\")\n",
        "print(f\"{num:>10}\")\n",
        "print(f\"{num:^10}\")"
      ],
      "metadata": {
        "colab": {
          "base_uri": "https://localhost:8080/"
        },
        "id": "HLVgTs3i9mE4",
        "outputId": "e6942fce-238b-4ce1-8307-e08fb9ccd902"
      },
      "execution_count": 119,
      "outputs": [
        {
          "output_type": "stream",
          "name": "stdout",
          "text": [
            "10        \n",
            "        10\n",
            "    10    \n"
          ]
        }
      ]
    },
    {
      "cell_type": "markdown",
      "source": [
        "#38"
      ],
      "metadata": {
        "id": "crN-2Hdl2Zmk"
      }
    },
    {
      "cell_type": "code",
      "source": [
        "string = '''For example, with a left shift of 3, D would be replaced\n",
        "by A, E would become B, and so on. The method is named after Julius Caesar,\n",
        "who used it in his private correspondence.'''\n",
        "substring = \"would\"\n",
        "print(string.count(substring))"
      ],
      "metadata": {
        "colab": {
          "base_uri": "https://localhost:8080/"
        },
        "id": "pJqq1MNn9muI",
        "outputId": "eb2251c3-81d1-4143-fd84-5be5a2062d2f"
      },
      "execution_count": 126,
      "outputs": [
        {
          "output_type": "stream",
          "name": "stdout",
          "text": [
            "2\n"
          ]
        }
      ]
    },
    {
      "cell_type": "markdown",
      "source": [
        "#39"
      ],
      "metadata": {
        "id": "5wUfU1M32bXK"
      }
    },
    {
      "cell_type": "code",
      "source": [
        "s = \"hello\"\n",
        "print(s[::-1])"
      ],
      "metadata": {
        "colab": {
          "base_uri": "https://localhost:8080/"
        },
        "id": "V4XmgSZg9nHY",
        "outputId": "a67e34d3-28f0-49e3-e463-10a19e9c713a"
      },
      "execution_count": 127,
      "outputs": [
        {
          "output_type": "stream",
          "name": "stdout",
          "text": [
            "olleh\n"
          ]
        }
      ]
    },
    {
      "cell_type": "markdown",
      "source": [
        "#40"
      ],
      "metadata": {
        "id": "VENp9lAR2ch0"
      }
    },
    {
      "cell_type": "code",
      "source": [
        "s = \"Chao cac ban\"\n",
        "print(' '.join(s.split()[::-1]))"
      ],
      "metadata": {
        "colab": {
          "base_uri": "https://localhost:8080/"
        },
        "id": "qdTdoenP9ne4",
        "outputId": "38bb4d8d-a4dc-4ff1-94f9-6e389cadc6df"
      },
      "execution_count": 129,
      "outputs": [
        {
          "output_type": "stream",
          "name": "stdout",
          "text": [
            "ban cac Chao\n"
          ]
        }
      ]
    },
    {
      "cell_type": "markdown",
      "source": [
        "#41"
      ],
      "metadata": {
        "id": "ZBzskb4e2dmc"
      }
    },
    {
      "cell_type": "code",
      "source": [
        "s = \"Pyliithon\"\n",
        "remove_chars = \"li\"\n",
        "result = ''.join([char for char in s if char not in remove_chars])\n",
        "print(result)"
      ],
      "metadata": {
        "colab": {
          "base_uri": "https://localhost:8080/"
        },
        "id": "quju2FOu9n9o",
        "outputId": "b6e0032d-c121-4994-cbef-64b04bbd1c7b"
      },
      "execution_count": 145,
      "outputs": [
        {
          "output_type": "stream",
          "name": "stdout",
          "text": [
            "Python\n"
          ]
        }
      ]
    },
    {
      "cell_type": "markdown",
      "source": [
        "#42"
      ],
      "metadata": {
        "id": "Ui-ax09V2esB"
      }
    },
    {
      "cell_type": "code",
      "source": [
        "_string = 'thequickbrownfoxjumpsoverthelazydog'\n",
        "import collections\n",
        "for i in set(_string):\n",
        "    print(f'{i} {collections.Counter(_string)[i]}')"
      ],
      "metadata": {
        "colab": {
          "base_uri": "https://localhost:8080/"
        },
        "id": "cIEYMFb49ohB",
        "outputId": "e14a9fcb-bbee-42b4-897d-754701a1ddcc"
      },
      "execution_count": 150,
      "outputs": [
        {
          "output_type": "stream",
          "name": "stdout",
          "text": [
            "i 1\n",
            "e 3\n",
            "h 2\n",
            "v 1\n",
            "n 1\n",
            "l 1\n",
            "g 1\n",
            "y 1\n",
            "f 1\n",
            "r 2\n",
            "d 1\n",
            "t 2\n",
            "o 4\n",
            "c 1\n",
            "j 1\n",
            "p 1\n",
            "u 2\n",
            "k 1\n",
            "a 1\n",
            "q 1\n",
            "w 1\n",
            "m 1\n",
            "z 1\n",
            "x 1\n",
            "b 1\n",
            "s 1\n"
          ]
        }
      ]
    },
    {
      "cell_type": "markdown",
      "source": [
        "#43"
      ],
      "metadata": {
        "id": "0Nqal-tl2frE"
      }
    },
    {
      "cell_type": "code",
      "source": [
        "print(f\"The area of the rectangle is {123.4:.2f}cm\\u00b2\")\n",
        "print(f\"The volume of the cylinder is {235.679:.3f}cm\\u00b3\")"
      ],
      "metadata": {
        "colab": {
          "base_uri": "https://localhost:8080/"
        },
        "id": "LJJAzrji9pDf",
        "outputId": "0b6b81dd-9568-49df-c1eb-7c65a928f672"
      },
      "execution_count": 162,
      "outputs": [
        {
          "output_type": "stream",
          "name": "stdout",
          "text": [
            "The area of the rectangle is 123.40cm²\n",
            "The volume of the cylinder is 235.679cm³\n"
          ]
        }
      ]
    },
    {
      "cell_type": "markdown",
      "source": [
        "#44"
      ],
      "metadata": {
        "id": "CaqZ8lmW2g0v"
      }
    },
    {
      "cell_type": "code",
      "source": [
        "s = \"w3resource\"\n",
        "for idx, char in enumerate(s):\n",
        "    print(f\"Current character {char} position at {idx}\")"
      ],
      "metadata": {
        "colab": {
          "base_uri": "https://localhost:8080/"
        },
        "id": "WdkrKIuf9piS",
        "outputId": "a7142b07-6b89-43be-d665-6f022775db80"
      },
      "execution_count": 152,
      "outputs": [
        {
          "output_type": "stream",
          "name": "stdout",
          "text": [
            "Current character w position at 0\n",
            "Current character 3 position at 1\n",
            "Current character r position at 2\n",
            "Current character e position at 3\n",
            "Current character s position at 4\n",
            "Current character o position at 5\n",
            "Current character u position at 6\n",
            "Current character r position at 7\n",
            "Current character c position at 8\n",
            "Current character e position at 9\n"
          ]
        }
      ]
    },
    {
      "cell_type": "markdown",
      "source": [
        "#45"
      ],
      "metadata": {
        "id": "1YNCmrif2iRd"
      }
    },
    {
      "cell_type": "code",
      "source": [
        "import string\n",
        "\n",
        "_string = input(\"Nhập chuỗi: \").lower()\n",
        "check = set(string.ascii_lowercase).issubset(set(_string))\n",
        "\n",
        "if check:\n",
        "    print(\"Chuỗi chứa đầy đủ chữ cái alphabet.\")\n",
        "else:\n",
        "    print(\"Chuỗi KHÔNG chứa đầy đủ chữ cái alphabet.\")"
      ],
      "metadata": {
        "colab": {
          "base_uri": "https://localhost:8080/"
        },
        "id": "bGqTyGag9qA5",
        "outputId": "704833e7-6ecc-47d3-8b3f-45bcde0a3e9a"
      },
      "execution_count": 164,
      "outputs": [
        {
          "output_type": "stream",
          "name": "stdout",
          "text": [
            "Nhập chuỗi: thequickbrownfoxjumpsoverthelazydog\n",
            "Chuỗi chứa đầy đủ chữ cái alphabet.\n"
          ]
        }
      ]
    },
    {
      "cell_type": "markdown",
      "source": [
        "#46"
      ],
      "metadata": {
        "id": "yt8rTula2jOM"
      }
    },
    {
      "cell_type": "code",
      "source": [
        "s = \"The quick brown fox jumps over the lazy dog.\"\n",
        "print(s.split())"
      ],
      "metadata": {
        "colab": {
          "base_uri": "https://localhost:8080/"
        },
        "id": "fqlGIlTT9qbg",
        "outputId": "ddbf0c72-2b84-4965-c786-e9a8099dfc0e"
      },
      "execution_count": 153,
      "outputs": [
        {
          "output_type": "stream",
          "name": "stdout",
          "text": [
            "['The', 'quick', 'brown', 'fox', 'jumps', 'over', 'the', 'lazy', 'dog.']\n"
          ]
        }
      ]
    },
    {
      "cell_type": "markdown",
      "source": [
        "#47"
      ],
      "metadata": {
        "id": "CBnkRSck2kQM"
      }
    },
    {
      "cell_type": "code",
      "source": [
        "def lowercase_first_n(s, n):\n",
        "    return s[:n].lower() + s[n:]\n",
        "\n",
        "print(lowercase_first_n(\"PYThon\", 3))"
      ],
      "metadata": {
        "colab": {
          "base_uri": "https://localhost:8080/"
        },
        "id": "Rpopg42V9q1w",
        "outputId": "2a382aa4-ad63-4808-b431-985296779fbb"
      },
      "execution_count": 154,
      "outputs": [
        {
          "output_type": "stream",
          "name": "stdout",
          "text": [
            "python\n"
          ]
        }
      ]
    },
    {
      "cell_type": "markdown",
      "source": [
        "#48"
      ],
      "metadata": {
        "id": "9DqDVt7H2lPs"
      }
    },
    {
      "cell_type": "code",
      "source": [
        "s = \"10.7,11\"\n",
        "s = s.replace('.', '#').replace(',', '.').replace('#', ',')\n",
        "print(s)"
      ],
      "metadata": {
        "colab": {
          "base_uri": "https://localhost:8080/"
        },
        "id": "XJpwrV199rcp",
        "outputId": "a305a043-ec08-4a25-d894-0aedb8418db8"
      },
      "execution_count": 156,
      "outputs": [
        {
          "output_type": "stream",
          "name": "stdout",
          "text": [
            "10,7.11\n"
          ]
        }
      ]
    },
    {
      "cell_type": "markdown",
      "source": [
        "#49"
      ],
      "metadata": {
        "id": "WNP5-UlR2mVl"
      }
    },
    {
      "cell_type": "code",
      "source": [
        "vowels = 'aeiou'\n",
        "text = \"Python\"\n",
        "for v in vowels:\n",
        "    count = text.lower().count(v)\n",
        "    if count:\n",
        "        print(f\"{v}: {count}\")"
      ],
      "metadata": {
        "colab": {
          "base_uri": "https://localhost:8080/"
        },
        "id": "FahIKT7X9r14",
        "outputId": "8ba8519f-56c0-4f7f-b002-4553d486d6f9"
      },
      "execution_count": 159,
      "outputs": [
        {
          "output_type": "stream",
          "name": "stdout",
          "text": [
            "o: 1\n"
          ]
        }
      ]
    },
    {
      "cell_type": "markdown",
      "source": [
        "#50"
      ],
      "metadata": {
        "id": "VoTuA6BV2nYr"
      }
    },
    {
      "cell_type": "code",
      "source": [
        "s = \"Python3.0.com\"\n",
        "head, sep, tail = s.rpartition('.')\n",
        "print(head)\n",
        "print(tail)"
      ],
      "metadata": {
        "id": "eiBHqK9B2od9",
        "colab": {
          "base_uri": "https://localhost:8080/"
        },
        "outputId": "0cc71459-58e3-40f7-f2c7-9f9fe7fcf9f2"
      },
      "execution_count": 161,
      "outputs": [
        {
          "output_type": "stream",
          "name": "stdout",
          "text": [
            "Python3.0\n",
            "com\n"
          ]
        }
      ]
    }
  ]
}