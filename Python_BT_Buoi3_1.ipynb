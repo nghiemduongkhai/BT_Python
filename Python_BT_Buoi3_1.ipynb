{
  "nbformat": 4,
  "nbformat_minor": 0,
  "metadata": {
    "colab": {
      "provenance": [],
      "authorship_tag": "ABX9TyP+kgRh8KQaCZl/L+wBZHGI",
      "include_colab_link": true
    },
    "kernelspec": {
      "name": "python3",
      "display_name": "Python 3"
    },
    "language_info": {
      "name": "python"
    }
  },
  "cells": [
    {
      "cell_type": "markdown",
      "metadata": {
        "id": "view-in-github",
        "colab_type": "text"
      },
      "source": [
        "<a href=\"https://colab.research.google.com/github/nghiemduongkhai/BT_Python/blob/main/Python_BT_Buoi3_1.ipynb\" target=\"_parent\"><img src=\"https://colab.research.google.com/assets/colab-badge.svg\" alt=\"Open In Colab\"/></a>"
      ]
    },
    {
      "cell_type": "markdown",
      "source": [
        "#1."
      ],
      "metadata": {
        "id": "WIX_x1Y5hwvD"
      }
    },
    {
      "cell_type": "code",
      "execution_count": null,
      "metadata": {
        "colab": {
          "base_uri": "https://localhost:8080/"
        },
        "id": "7OLXoGnJfvyn",
        "outputId": "4192868a-c7a9-4d43-db83-68b71ab9dce5"
      },
      "outputs": [
        {
          "output_type": "stream",
          "name": "stdout",
          "text": [
            "Enter base of the triangle: 3.2\n",
            "Enter height of the triangle: 5.1\n",
            "The area of the triangle is 8.16\n"
          ]
        }
      ],
      "source": [
        "base = float(input('Enter base of the triangle: '))\n",
        "height = float(input('Enter height of the triangle: '))\n",
        "area = 0.5 * base * height\n",
        "print('The area of the triangle is', area)"
      ]
    },
    {
      "cell_type": "markdown",
      "source": [
        "#2."
      ],
      "metadata": {
        "id": "gUbc0kXIiI85"
      }
    },
    {
      "cell_type": "code",
      "source": [
        "side_a = input('Enter side a of the triangle ')\n",
        "side_b = input('Enter side b of the triangle ')\n",
        "side_c = input('Enter side c of the triangle ')\n",
        "perimeter = float(side_a) + float(side_b) + float(side_c)\n",
        "print('The perimeter of the triangle is', perimeter)"
      ],
      "metadata": {
        "colab": {
          "base_uri": "https://localhost:8080/"
        },
        "id": "LKkLKQjaiJfo",
        "outputId": "4b42fa60-14e1-4630-a7f8-09928293d083"
      },
      "execution_count": null,
      "outputs": [
        {
          "output_type": "stream",
          "name": "stdout",
          "text": [
            "Enter side a of the triangle 3.5\n",
            "Enter side b of the triangle 4.6\n",
            "Enter side c of the triangle 6\n",
            "The perimeter of the triangle is 14.1\n"
          ]
        }
      ]
    },
    {
      "cell_type": "markdown",
      "source": [
        "#3."
      ],
      "metadata": {
        "id": "wwiTn4ipivKA"
      }
    },
    {
      "cell_type": "code",
      "source": [
        "length = input('Enter length of the rectangle ')\n",
        "width = input('Enter width of the rectangle ')\n",
        "area = float(length) * float(width)\n",
        "perimeter = 2 * (float(length) + float(width))\n",
        "print('The area of the rectangle is ', area)\n",
        "print('The perimeter of the rectangle is ', perimeter)"
      ],
      "metadata": {
        "colab": {
          "base_uri": "https://localhost:8080/"
        },
        "id": "46b3njTniw1P",
        "outputId": "632729e2-16fd-4e08-c9e7-cb932ce2bd65"
      },
      "execution_count": null,
      "outputs": [
        {
          "output_type": "stream",
          "name": "stdout",
          "text": [
            "Enter length of the rectangle 6.5\n",
            "Enter width of the rectangle 4\n",
            "The area of the rectangle is  26.0\n",
            "The perimeter of the rectangle is  21.0\n"
          ]
        }
      ]
    },
    {
      "cell_type": "markdown",
      "source": [
        "#4."
      ],
      "metadata": {
        "id": "K_fCuZFLjhq-"
      }
    },
    {
      "cell_type": "code",
      "source": [
        "radius = float(input('Enter radius of the circle '))\n",
        "area = 3.14 * radius * radius\n",
        "circumference = 2 * 3.14 * radius\n",
        "print('The area of the circle is ', area)\n",
        "print('The circumference of the circle is ', circumference)"
      ],
      "metadata": {
        "colab": {
          "base_uri": "https://localhost:8080/"
        },
        "id": "RixU6l0ijiCe",
        "outputId": "cba88144-14cc-45c4-c161-c841eaa0fdd3"
      },
      "execution_count": null,
      "outputs": [
        {
          "output_type": "stream",
          "name": "stdout",
          "text": [
            "Enter radius of the circle 4.3\n",
            "The area of the circle is  58.0586\n",
            "The circumference of the circle is  27.004\n"
          ]
        }
      ]
    },
    {
      "cell_type": "markdown",
      "source": [
        "#5."
      ],
      "metadata": {
        "id": "P-rPPvKxj63l"
      }
    },
    {
      "cell_type": "code",
      "source": [
        "def equation(x):\n",
        "  return 2*x - 2\n",
        "\n",
        "y_intercept = equation(0)\n",
        "x_intercept = 2/2\n",
        "\n",
        "print('The slope', 2)\n",
        "print('The y-intercept of the equation is', y_intercept)\n",
        "print('The x-intercept of the equation is', x_intercept)"
      ],
      "metadata": {
        "id": "Fw_uiRs_j6hN",
        "colab": {
          "base_uri": "https://localhost:8080/"
        },
        "outputId": "517e4ffc-9059-401e-ecfa-29c9e9c6b5e3"
      },
      "execution_count": null,
      "outputs": [
        {
          "output_type": "stream",
          "name": "stdout",
          "text": [
            "The slope 2\n",
            "The y-intercept of the equation is -2\n",
            "The x-intercept of the equation is 1.0\n"
          ]
        }
      ]
    },
    {
      "cell_type": "markdown",
      "source": [
        "#6."
      ],
      "metadata": {
        "id": "WMRaA-cDkoTb"
      }
    },
    {
      "cell_type": "code",
      "source": [
        "import math\n",
        "\n",
        "x1 = float(input('Enter x1: '))\n",
        "y1 = float(input('Enter y1: '))\n",
        "x2 = float(input('Enter x2: '))\n",
        "y2 = float(input('Enter y2: '))\n",
        "#slope\n",
        "m = (y2 - y1) / (x2 - x1)\n",
        "#distance\n",
        "d = math.sqrt((y2 - y1)**2 + (x2 - x1)**2)\n",
        "print(f'The slope is {m}')\n",
        "print(f'The distance is {d}')"
      ],
      "metadata": {
        "id": "itcxYHr_kogS",
        "colab": {
          "base_uri": "https://localhost:8080/"
        },
        "outputId": "4bb9f10a-4bd2-4a68-abe4-52f9b36c4a6a"
      },
      "execution_count": 5,
      "outputs": [
        {
          "output_type": "stream",
          "name": "stdout",
          "text": [
            "Enter x1: 2\n",
            "Enter y1: 2\n",
            "Enter x2: 6\n",
            "Enter y2: 10\n",
            "The slope is 2.0\n",
            "The distance is 8.94427190999916\n"
          ]
        }
      ]
    },
    {
      "cell_type": "markdown",
      "source": [
        "#7."
      ],
      "metadata": {
        "id": "1bIhLhkFksAz"
      }
    },
    {
      "cell_type": "code",
      "source": [
        "x1, y1 = 2, 2\n",
        "x2, y2 = 6, 10\n",
        "\n",
        "slope_5 = (y2 - y1) / (x2 - x1)\n",
        "slope_6 = 2\n",
        "print(f\"Độ dốc Task 5: {slope_5}\")\n",
        "print(f\"Độ dốc Task 6: {slope_6}\")\n",
        "\n",
        "if slope_5 == slope_6:\n",
        "    print(\"Hai đường thẳng có cùng độ dốc.\")\n",
        "else:\n",
        "    print(\"Hai đường thẳng có độ dốc khác nhau.\")"
      ],
      "metadata": {
        "id": "hlJgrTqKktp6",
        "colab": {
          "base_uri": "https://localhost:8080/"
        },
        "outputId": "1c6824f5-4192-4de8-8edf-3ee22ce0e1d8"
      },
      "execution_count": 6,
      "outputs": [
        {
          "output_type": "stream",
          "name": "stdout",
          "text": [
            "Độ dốc Task 5: 2.0\n",
            "Độ dốc Task 6: 2\n",
            "➡️ Hai đường thẳng có cùng độ dốc.\n"
          ]
        }
      ]
    },
    {
      "cell_type": "markdown",
      "source": [
        "#8"
      ],
      "metadata": {
        "id": "tb4U0qXSkuSL"
      }
    },
    {
      "cell_type": "code",
      "source": [
        "def calculate_y(x):\n",
        "    return x**2 + 6*x + 9\n",
        "result = []\n",
        "for x in range(-5, 6):\n",
        "    y = calculate_y(x)\n",
        "    result.append((x, y))\n",
        "    print(f\"x = {x}, y = {y}\")\n",
        "for x, y in result:\n",
        "  if y == 0:\n",
        "    print(f\"y = 0 when x = {x}\")"
      ],
      "metadata": {
        "id": "IuP3ykJukvgD",
        "colab": {
          "base_uri": "https://localhost:8080/"
        },
        "outputId": "561aa1f5-fa7d-49dd-e8c4-8a08fec084ce"
      },
      "execution_count": 13,
      "outputs": [
        {
          "output_type": "stream",
          "name": "stdout",
          "text": [
            "x = -5, y = 4\n",
            "x = -4, y = 1\n",
            "x = -3, y = 0\n",
            "x = -2, y = 1\n",
            "x = -1, y = 4\n",
            "x = 0, y = 9\n",
            "x = 1, y = 16\n",
            "x = 2, y = 25\n",
            "x = 3, y = 36\n",
            "x = 4, y = 49\n",
            "x = 5, y = 64\n",
            "y = 0 when x = -3\n"
          ]
        }
      ]
    },
    {
      "cell_type": "markdown",
      "source": [
        "#9."
      ],
      "metadata": {
        "id": "PZLDBCldkv7T"
      }
    },
    {
      "cell_type": "code",
      "source": [
        "w1 = 'python'\n",
        "w2 = 'dragon'\n",
        "length_w1 = len(w1)\n",
        "length_w2 = len(w2)\n",
        "f_compare = length_w1 > length_w2\n",
        "print(f'The length of the word 1 {w1}: {length_w1}')\n",
        "print(f'The length of the word 2 {w2}: {length_w2}')\n",
        "print(f'The length of the word {w1} > the length of the word {w2}: {f_compare}')"
      ],
      "metadata": {
        "id": "KALD4ad0kxw7",
        "colab": {
          "base_uri": "https://localhost:8080/"
        },
        "outputId": "0074ba51-34a0-4c35-b8ae-f72d46c3e09b"
      },
      "execution_count": 15,
      "outputs": [
        {
          "output_type": "stream",
          "name": "stdout",
          "text": [
            "The length of the word 1 python: 6\n",
            "The length of the word 2 dragon: 6\n",
            "The length of the word python > the length of the word dragon: False\n"
          ]
        }
      ]
    },
    {
      "cell_type": "markdown",
      "source": [
        "#10."
      ],
      "metadata": {
        "id": "nsTOjZdOkyYT"
      }
    },
    {
      "cell_type": "code",
      "source": [
        "w1 = 'python'\n",
        "w2 = 'dragon'\n",
        "result = 'on' in w1 and 'on' in w2\n",
        "print(f\"'on' is found in both 'python' and 'dragon': {result}\")"
      ],
      "metadata": {
        "id": "mFz5dxK6k0X7",
        "colab": {
          "base_uri": "https://localhost:8080/"
        },
        "outputId": "97b176c7-15af-47ef-ef99-fab5a88d57aa"
      },
      "execution_count": 19,
      "outputs": [
        {
          "output_type": "stream",
          "name": "stdout",
          "text": [
            "'on' is found in both 'python' and 'dragon': True\n"
          ]
        }
      ]
    },
    {
      "cell_type": "markdown",
      "source": [
        "#11."
      ],
      "metadata": {
        "id": "lFC1vHtR2vBE"
      }
    },
    {
      "cell_type": "code",
      "source": [
        "sentence = \"I hope this course is not full of jargon.\"\n",
        "result = 'jargon' in sentence\n",
        "\n",
        "print(f\"Is 'jargon' in the sentence? {result}\")"
      ],
      "metadata": {
        "id": "YwsLOG0t2xQM",
        "colab": {
          "base_uri": "https://localhost:8080/"
        },
        "outputId": "7c440d65-2297-4c1e-8191-b559cb2cf32b"
      },
      "execution_count": 20,
      "outputs": [
        {
          "output_type": "stream",
          "name": "stdout",
          "text": [
            "Is 'jargon' in the sentence? True\n"
          ]
        }
      ]
    },
    {
      "cell_type": "markdown",
      "source": [
        "#13."
      ],
      "metadata": {
        "id": "7LlLVN1H2xkE"
      }
    },
    {
      "cell_type": "code",
      "source": [
        "text = \"I hope this course is not full of jargon.\"\n",
        "len_text = len(text)\n",
        "len_text_float = float(len_text)\n",
        "len_text_str = str(len_text_float)\n",
        "print(f\"The length of the sentence is: {len_text}\")\n",
        "print(f\"The length of the sentence converted to float is: {len_text_float}\")\n",
        "print(f\"The length of the sentence converted to string is: {len_text_str}\")"
      ],
      "metadata": {
        "id": "TexrycSV2y58",
        "colab": {
          "base_uri": "https://localhost:8080/"
        },
        "outputId": "491b86c4-a79b-4ac1-bbbb-fbb0a8b1d107"
      },
      "execution_count": 23,
      "outputs": [
        {
          "output_type": "stream",
          "name": "stdout",
          "text": [
            "The length of the sentence is: 41\n",
            "The length of the sentence converted to float is: 41.0\n",
            "The length of the sentence converted to string is: 41.0\n"
          ]
        }
      ]
    },
    {
      "cell_type": "markdown",
      "source": [
        "#14."
      ],
      "metadata": {
        "id": "sFr6fNFh2zwN"
      }
    },
    {
      "cell_type": "code",
      "source": [
        "num = int(input(\"Enter a number: \"))\n",
        "if num % 2 == 0:\n",
        "    print(f\"{num} is an even number.\")\n",
        "else:\n",
        "    print(f\"{num} is an odd number.\")"
      ],
      "metadata": {
        "id": "-Yg7v64d207b",
        "colab": {
          "base_uri": "https://localhost:8080/"
        },
        "outputId": "35fbc2dd-57fa-4334-f325-bb1559738f84"
      },
      "execution_count": 4,
      "outputs": [
        {
          "output_type": "stream",
          "name": "stdout",
          "text": [
            "Enter a number: 3\n",
            "3 is an odd number.\n"
          ]
        }
      ]
    },
    {
      "cell_type": "markdown",
      "source": [
        "#15."
      ],
      "metadata": {
        "id": "yES_IC5321i7"
      }
    },
    {
      "cell_type": "code",
      "source": [
        "hours = float(input(\"Enter the number of hours: \"))\n",
        "rate_per_hour = float(input(\"Enter the hourly rate: \"))\n",
        "salary = hours * rate_per_hour\n",
        "print(f\"Your salary: ${salary}\")"
      ],
      "metadata": {
        "id": "PB5Zjg_T23C1",
        "colab": {
          "base_uri": "https://localhost:8080/"
        },
        "outputId": "9af3c852-8da8-4ab0-fb15-d04fa98539d9"
      },
      "execution_count": 6,
      "outputs": [
        {
          "output_type": "stream",
          "name": "stdout",
          "text": [
            "Enter the number of hours: 123\n",
            "Enter the hourly rate: 25000\n",
            "Your salary: $3075000.0\n"
          ]
        }
      ]
    },
    {
      "cell_type": "markdown",
      "source": [
        "#16."
      ],
      "metadata": {
        "id": "U1QWxd5h23Q7"
      }
    },
    {
      "cell_type": "code",
      "source": [
        "years = int(input(\"Enter the number of years: \"))\n",
        "seconds_in_year = 365 * 24 * 60 * 60\n",
        "\n",
        "max_years = 100\n",
        "if years > max_years:\n",
        "    print(f\"That's more than the assumed human lifespan of {max_years} years.\")\n",
        "else:\n",
        "    print(f\"In {years} years, there are approximately {seconds_in_year} seconds.\")"
      ],
      "metadata": {
        "id": "3ikg4jM524-M",
        "colab": {
          "base_uri": "https://localhost:8080/"
        },
        "outputId": "70064eb7-25bc-46bf-9277-f73d3d9fa35d"
      },
      "execution_count": 9,
      "outputs": [
        {
          "output_type": "stream",
          "name": "stdout",
          "text": [
            "Enter the number of years: 100\n",
            "In 100 years, there are approximately 31536000 seconds.\n"
          ]
        }
      ]
    }
  ]
}