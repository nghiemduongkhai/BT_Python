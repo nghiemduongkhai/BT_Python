{
  "nbformat": 4,
  "nbformat_minor": 0,
  "metadata": {
    "colab": {
      "provenance": [],
      "authorship_tag": "ABX9TyMWLBnhcMJtpcdbUgH9X/jR",
      "include_colab_link": true
    },
    "kernelspec": {
      "name": "python3",
      "display_name": "Python 3"
    },
    "language_info": {
      "name": "python"
    }
  },
  "cells": [
    {
      "cell_type": "markdown",
      "metadata": {
        "id": "view-in-github",
        "colab_type": "text"
      },
      "source": [
        "<a href=\"https://colab.research.google.com/github/nghiemduongkhai/BT_Python/blob/main/Python_BT_Buoi3_2.ipynb\" target=\"_parent\"><img src=\"https://colab.research.google.com/assets/colab-badge.svg\" alt=\"Open In Colab\"/></a>"
      ]
    },
    {
      "cell_type": "markdown",
      "source": [
        "##1.Write a program to check a person is eligible for voting or not (accept age from user)\n"
      ],
      "metadata": {
        "id": "VUdc9xA_v9eP"
      }
    },
    {
      "cell_type": "code",
      "execution_count": null,
      "metadata": {
        "id": "vYrFUVE9f9Ph",
        "colab": {
          "base_uri": "https://localhost:8080/"
        },
        "outputId": "028d5df2-40b4-40dd-d24c-2b68a8826f6f"
      },
      "outputs": [
        {
          "output_type": "stream",
          "name": "stdout",
          "text": [
            "Enter your age: 23\n",
            "You are eligible for voting\n"
          ]
        }
      ],
      "source": [
        "def ex01():\n",
        "  age = int(input('Enter your age: '))\n",
        "  if age >= 18:\n",
        "    print('You are eligible for voting')\n",
        "  else:\n",
        "    print('You are not eligible for voting')\n",
        "\n",
        "ex01()"
      ]
    },
    {
      "cell_type": "markdown",
      "source": [
        "##2.Write a program to check whether a number entered by user is even or odd."
      ],
      "metadata": {
        "id": "vEnbH_uXwMiN"
      }
    },
    {
      "cell_type": "code",
      "source": [
        "def ex02():\n",
        "  num = int(input('Enter a number: '))\n",
        "  if num % 2 == 0:\n",
        "    print('The number is even')\n",
        "  else:\n",
        "    print('The number is odd')\n",
        "\n",
        "ex02()"
      ],
      "metadata": {
        "colab": {
          "base_uri": "https://localhost:8080/"
        },
        "id": "QFgZR4sewMvd",
        "outputId": "75ab4764-1edd-4fa0-9e23-86558b918aa4"
      },
      "execution_count": null,
      "outputs": [
        {
          "output_type": "stream",
          "name": "stdout",
          "text": [
            "Enter a number: 45\n",
            "The number is odd\n"
          ]
        }
      ]
    },
    {
      "cell_type": "markdown",
      "source": [
        "##3.Write a program to check whether a number is divisible by 7 or not."
      ],
      "metadata": {
        "id": "8nnVyAafwUnu"
      }
    },
    {
      "cell_type": "code",
      "source": [
        "def ex03():\n",
        "  num = int(input('Enter a number: '))\n",
        "  if num % 7 == 0:\n",
        "    print('The number is divisible by 7')\n",
        "  else:\n",
        "    print('The number is not divisible by 7')\n",
        "\n",
        "ex03()"
      ],
      "metadata": {
        "colab": {
          "base_uri": "https://localhost:8080/"
        },
        "id": "sohzEGGjwVAd",
        "outputId": "47067f00-4629-4d8c-adf1-055fdd6cd58d"
      },
      "execution_count": null,
      "outputs": [
        {
          "output_type": "stream",
          "name": "stdout",
          "text": [
            "Enter a number: 266\n",
            "The number is divisible by 7\n"
          ]
        }
      ]
    },
    {
      "cell_type": "markdown",
      "source": [
        "##4.Write a program to check the last digit od a  number (entered by user) is divisible by 3 or not."
      ],
      "metadata": {
        "id": "0BXAAqbBwlul"
      }
    },
    {
      "cell_type": "code",
      "source": [
        "def ex04():\n",
        "  num = int(input('Enter a number: '))\n",
        "  last_digit = num % 10\n",
        "  if last_digit % 3 == 0:\n",
        "    print('The last digit is divisible by 3')\n",
        "  else:\n",
        "    print('The last digit is not divisible by 3')\n",
        "\n",
        "ex04()"
      ],
      "metadata": {
        "colab": {
          "base_uri": "https://localhost:8080/"
        },
        "id": "bSNk-0KZwpCF",
        "outputId": "94356c68-ef04-4d93-e5df-a40cc7ddc0f5"
      },
      "execution_count": null,
      "outputs": [
        {
          "output_type": "stream",
          "name": "stdout",
          "text": [
            "Enter a number: 223\n",
            "The last digit is divisible by 3\n"
          ]
        }
      ]
    },
    {
      "cell_type": "markdown",
      "source": [
        "##5.Write a Python program to guess a number between 1 and 9."
      ],
      "metadata": {
        "id": "WgwgdrnswpZt"
      }
    },
    {
      "cell_type": "code",
      "source": [
        "def ex05():\n",
        "  import random\n",
        "  num = random.randint(1, 9)\n",
        "  guess = int(input('Guess a number between 1 and 9: '))\n",
        "  if guess == num:\n",
        "    print('You guessed the number')\n",
        "  else:\n",
        "    print(f'You did not guess the number. True is {num}')\n",
        "\n",
        "ex05()"
      ],
      "metadata": {
        "colab": {
          "base_uri": "https://localhost:8080/"
        },
        "id": "J5R5pSg6wrUW",
        "outputId": "cafa768a-bbb2-469d-e7d9-be5edc0db92e"
      },
      "execution_count": null,
      "outputs": [
        {
          "output_type": "stream",
          "name": "stdout",
          "text": [
            "Guess a number between 1 and 9: 7\n",
            "You guessed the number\n"
          ]
        }
      ]
    },
    {
      "cell_type": "markdown",
      "source": [
        "##6.Write a program to accept a number from 1 to 7 and display the name of the day like 1 for Sunday, 2 for Monday and so on.\n"
      ],
      "metadata": {
        "id": "0s2vOh7dwrqe"
      }
    },
    {
      "cell_type": "code",
      "source": [
        "def ex06():\n",
        "  day = int(input('Enter a number from 1 to 7: '))\n",
        "  if day == 1:\n",
        "    print('Sunday')\n",
        "  elif day == 2:\n",
        "    print('Monday')\n",
        "  elif day == 3:\n",
        "    print('Tuesday')\n",
        "  elif day == 4:\n",
        "    print('Wednesday')\n",
        "  elif day == 5:\n",
        "    print('Thursday')\n",
        "  elif day == 6:\n",
        "    print('Friday')\n",
        "  elif day == 7:\n",
        "    print('Saturday')\n",
        "  else:\n",
        "    print('From 1 to 7 !!')\n",
        "\n",
        "ex06()"
      ],
      "metadata": {
        "colab": {
          "base_uri": "https://localhost:8080/"
        },
        "id": "R7UNfgDZwuKF",
        "outputId": "ae12605e-e07e-459f-9e1e-94f7b2c772c3"
      },
      "execution_count": null,
      "outputs": [
        {
          "output_type": "stream",
          "name": "stdout",
          "text": [
            "Enter a number from 1 to 7: 1\n",
            "Sunday\n"
          ]
        }
      ]
    }
  ]
}