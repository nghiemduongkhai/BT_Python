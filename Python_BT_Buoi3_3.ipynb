{
  "nbformat": 4,
  "nbformat_minor": 0,
  "metadata": {
    "colab": {
      "provenance": [],
      "authorship_tag": "ABX9TyOjtljAvjHqidsSvxsBMYfu",
      "include_colab_link": true
    },
    "kernelspec": {
      "name": "python3",
      "display_name": "Python 3"
    },
    "language_info": {
      "name": "python"
    }
  },
  "cells": [
    {
      "cell_type": "markdown",
      "metadata": {
        "id": "view-in-github",
        "colab_type": "text"
      },
      "source": [
        "<a href=\"https://colab.research.google.com/github/nghiemduongkhai/BT_Python/blob/main/Python_BT_Buoi3_3.ipynb\" target=\"_parent\"><img src=\"https://colab.research.google.com/assets/colab-badge.svg\" alt=\"Open In Colab\"/></a>"
      ]
    },
    {
      "cell_type": "markdown",
      "source": [
        "##1.write a program that prints numbers from 1 to 10"
      ],
      "metadata": {
        "id": "GgjruJLp1PSN"
      }
    },
    {
      "cell_type": "code",
      "execution_count": 2,
      "metadata": {
        "id": "9qAvPYKq1BZr",
        "colab": {
          "base_uri": "https://localhost:8080/"
        },
        "outputId": "f0dbcd48-138c-4f25-dd56-41285ab4b0b9"
      },
      "outputs": [
        {
          "output_type": "stream",
          "name": "stdout",
          "text": [
            "1\n",
            "2\n",
            "3\n",
            "4\n",
            "5\n",
            "6\n",
            "7\n",
            "8\n",
            "9\n",
            "10\n"
          ]
        }
      ],
      "source": [
        "for i in range(1,11):\n",
        "  print(i)"
      ]
    },
    {
      "cell_type": "markdown",
      "source": [
        "##2.Write a program to calculate the sum of numbers in a range from 1 to n (n is entered from the keyboard)"
      ],
      "metadata": {
        "id": "JrL0qqzJ1RXT"
      }
    },
    {
      "cell_type": "code",
      "source": [],
      "metadata": {
        "id": "TPc_20Ij1Syk"
      },
      "execution_count": null,
      "outputs": []
    },
    {
      "cell_type": "markdown",
      "source": [
        "##3.Write a program to calculate the sum of even (/odd) numbers in a range from 1 to n (n is entered from the keyboard)"
      ],
      "metadata": {
        "id": "WdfA4tRu1TOr"
      }
    },
    {
      "cell_type": "code",
      "source": [],
      "metadata": {
        "id": "au38Hgku1UeM"
      },
      "execution_count": null,
      "outputs": []
    },
    {
      "cell_type": "markdown",
      "source": [
        "##4.Write a program to check how many vowels are in a string entered from the keyboard."
      ],
      "metadata": {
        "id": "0W-zFY5a1rjz"
      }
    },
    {
      "cell_type": "code",
      "source": [],
      "metadata": {
        "id": "-nlLd6XP1r1M"
      },
      "execution_count": null,
      "outputs": []
    },
    {
      "cell_type": "markdown",
      "source": [
        "##5.Write a program to count the number of words in a sentence the user enters."
      ],
      "metadata": {
        "id": "8y0tZ7iI1toT"
      }
    },
    {
      "cell_type": "code",
      "source": [],
      "metadata": {
        "id": "3StUFB4Q1t_z"
      },
      "execution_count": null,
      "outputs": []
    },
    {
      "cell_type": "markdown",
      "source": [
        "##6.Write a program that implements a game as the following description:\n",
        "\n",
        "### 1. The computer generates a random number from 1 to 100\n",
        "\n",
        "### 2. The user was asked to guess\n",
        "\n",
        "### 3. match the user-guessing number to the generated number\n",
        "##The user can only guess five times."
      ],
      "metadata": {
        "id": "0rlthIjT1xPD"
      }
    },
    {
      "cell_type": "code",
      "source": [
        "import random\n",
        "def game_engineer(level):\n",
        "  num = random.randint(1, 100)\n",
        "  print(num)\n",
        "  dem = 0\n",
        "  for i in range(level):\n",
        "    guess = int(input(\"Guess a number between 1 and 100: \"))\n",
        "    if guess == num:\n",
        "      print(\"Congratulations! You guessed the correct number.\")\n",
        "      break\n",
        "    elif guess < num:\n",
        "      print(\"Too low! Try again.\")\n",
        "      dem += 1\n",
        "    else:\n",
        "      print(\"Too high! Try again.\")\n",
        "      dem += 1\n",
        "  if dem == level:\n",
        "    print(\"Sorry, you have run out of guesses. The correct number was\", num)\n",
        "\n",
        "print(\"Welcome to the guessing game!\")\n",
        "level_game = input(\"Enter the level of difficulty (E, M, H): \").lower()\n",
        "if level_game == \"e\":\n",
        "  game_engineer(9)\n",
        "elif level_game == \"m\":\n",
        "  game_engineer(6)\n",
        "elif level_game == \"h\":\n",
        "  game_engineer(4)"
      ],
      "metadata": {
        "colab": {
          "base_uri": "https://localhost:8080/"
        },
        "id": "3jap4fvi1xos",
        "outputId": "1cdfffee-99c3-451f-8c49-fee3a2387b9c"
      },
      "execution_count": 9,
      "outputs": [
        {
          "output_type": "stream",
          "name": "stdout",
          "text": [
            "Welcome to the guessing game!\n",
            "Enter the level of difficulty (E, M, H): h\n",
            "91\n",
            "Guess a number between 1 and 100: 91\n",
            "Congratulations! You guessed the correct number.\n"
          ]
        }
      ]
    }
  ]
}