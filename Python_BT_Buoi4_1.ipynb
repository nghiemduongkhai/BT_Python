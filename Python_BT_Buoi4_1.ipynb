{
  "nbformat": 4,
  "nbformat_minor": 0,
  "metadata": {
    "colab": {
      "provenance": [],
      "authorship_tag": "ABX9TyO1ucpx6dWlwaHRiZBgxpD8",
      "include_colab_link": true
    },
    "kernelspec": {
      "name": "python3",
      "display_name": "Python 3"
    },
    "language_info": {
      "name": "python"
    }
  },
  "cells": [
    {
      "cell_type": "markdown",
      "metadata": {
        "id": "view-in-github",
        "colab_type": "text"
      },
      "source": [
        "<a href=\"https://colab.research.google.com/github/nghiemduongkhai/BT_Python/blob/main/Python_BT_Buoi4_1.ipynb\" target=\"_parent\"><img src=\"https://colab.research.google.com/assets/colab-badge.svg\" alt=\"Open In Colab\"/></a>"
      ]
    },
    {
      "cell_type": "markdown",
      "source": [
        "# Viết 1 game chgo phép người dùng đoán số từ 1 đến 100.\n",
        "## Game có 3 cấp độ chơi:\n",
        "\n",
        "    - dễ - đoán tối đa 9 lần\n",
        "    - vừa - đoán tối đa 6 lần\n",
        "    - khó - đoán tối đa 4 lần\n",
        "\n",
        "## Sau khi người dùng hoàn tất 1 lần chơi, chương trình sẽ hỏi người dùng có chơi nữa không.\n",
        "\n",
        "    - Nếu người chơi đồng ý thì tiếp tục 1 lần chơi mới.\n",
        "    - Nếu không thì kết thúc trò chơi, thống kê số lần chơi thắng/thua"
      ],
      "metadata": {
        "id": "Iqvx3TZPuZjb"
      }
    },
    {
      "cell_type": "code",
      "execution_count": 21,
      "metadata": {
        "id": "yb6k4gO-tcKD",
        "colab": {
          "base_uri": "https://localhost:8080/"
        },
        "outputId": "08614b2f-fc0c-47e9-aeab-eecca156319b"
      },
      "outputs": [
        {
          "output_type": "stream",
          "name": "stdout",
          "text": [
            "Chọn cấp độ chơi:\n",
            "1. Dễ - 9 lần đoán\n",
            "2. Vừa - 6 lần đoán\n",
            "3. Khó - 4 lần đoán\n",
            "Nhập cấp độ chơi (1/2/3): 3\n",
            "Nhập số bạn đoán: 2\n",
            "Số bạn đoán nhỏ hơn số máy.\n",
            "Nhập số bạn đoán: 3\n",
            "Số bạn đoán nhỏ hơn số máy.\n",
            "Nhập số bạn đoán: 4\n",
            "Số bạn đoán nhỏ hơn số máy.\n",
            "Nhập số bạn đoán: 5\n",
            "Số bạn đoán nhỏ hơn số máy.\n",
            "Số máy là: 37\n",
            "Số lần chơi: 1\n",
            "Số lần thắng: 0\n",
            "Bạn muốn chơi tiếp ? <n/N để dừng> - n\n",
            "Bạn đã chơi: 1\n",
            "Bạn đã thắng: 0\n",
            "Cảm ơn hẹn gặp lại !!\n"
          ]
        }
      ],
      "source": [
        "import random\n",
        "\n",
        "def choose_level():\n",
        "  print(\"Chọn cấp độ chơi:\")\n",
        "  print(\"1. Dễ - 9 lần đoán\")\n",
        "  print(\"2. Vừa - 6 lần đoán\")\n",
        "  print(\"3. Khó - 4 lần đoán\")\n",
        "  while True:\n",
        "    level = int(input(\"Nhập cấp độ chơi (1/2/3): \"))\n",
        "    if 1 <= (level) <= 3:\n",
        "      break\n",
        "    else:\n",
        "      print(\"Lựa chọn không hợp lệ. Vui lòng chọn lại. \\n\")\n",
        "  return 9 if level == 1 else 6 if level == 2 else 4\n",
        "\n",
        "def game_guess_number(count):\n",
        "  is_win = False\n",
        "  comp_number = random.randint(1, 100)\n",
        "  for i in range(count):\n",
        "    guess_num = int(input(\"Nhập số bạn đoán: \"))\n",
        "    if guess_num == comp_number:\n",
        "      print(f\"Chúc mừng bạn đã đoán đúng! Sau {i+1} lần.\")\n",
        "      is_win = True\n",
        "      break\n",
        "    else:\n",
        "      if guess_num > comp_number:\n",
        "        print(\"Số bạn đoán lớn hơn số máy.\")\n",
        "      else:\n",
        "        print(\"Số bạn đoán nhỏ hơn số máy.\")\n",
        "  print(f\"Số máy là: {comp_number}\")\n",
        "  return is_win\n",
        "\n",
        "if __name__ == \"__main__\":\n",
        "  no_plays = 0\n",
        "  no_wins = 0\n",
        "  while True:\n",
        "    no_plays += 1\n",
        "    game_level = choose_level()\n",
        "    if game_guess_number(game_level):\n",
        "      no_wins += 1\n",
        "    print(f\"Số lần chơi: {no_plays}\")\n",
        "    print(f\"Số lần thắng: {no_wins}\")\n",
        "    response = input(\"Bạn muốn chơi tiếp ? <n/N để dừng> - \").lower()\n",
        "    if response == \"n\":\n",
        "      break\n",
        "  print(f\"Bạn đã chơi: {no_plays}\")\n",
        "  print(f\"Bạn đã thắng: {no_wins}\")\n",
        "  print(\"Cảm ơn hẹn gặp lại !!\")"
      ]
    }
  ]
}