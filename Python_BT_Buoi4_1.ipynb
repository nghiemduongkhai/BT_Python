{
  "nbformat": 4,
  "nbformat_minor": 0,
  "metadata": {
    "colab": {
      "provenance": [],
      "authorship_tag": "ABX9TyMeGeCVQHsck3tl0f3j+zkw",
      "include_colab_link": true
    },
    "kernelspec": {
      "name": "python3",
      "display_name": "Python 3"
    },
    "language_info": {
      "name": "python"
    }
  },
  "cells": [
    {
      "cell_type": "markdown",
      "metadata": {
        "id": "view-in-github",
        "colab_type": "text"
      },
      "source": [
        "<a href=\"https://colab.research.google.com/github/nghiemduongkhai/BT_Python/blob/main/Python_BT_Buoi4_1.ipynb\" target=\"_parent\"><img src=\"https://colab.research.google.com/assets/colab-badge.svg\" alt=\"Open In Colab\"/></a>"
      ]
    },
    {
      "cell_type": "markdown",
      "source": [
        "# Viết 1 game chgo phép người dùng đoán số từ 1 đến 100.\n",
        "## Game có 3 cấp độ chơi:\n",
        "\n",
        "    - dễ - đoán tối đa 9 lần\n",
        "    - vừa - đoán tối đa 6 lần\n",
        "    - khó - đoán tối đa 4 lần\n",
        "\n",
        "## Sau khi người dùng hoàn tất 1 lần chơi, chương trình sẽ hỏi người dùng có chơi nữa không.\n",
        "\n",
        "    - Nếu người chơi đồng ý thì tiếp tục 1 lần chơi mới.\n",
        "    - Nếu không thì kết thúc trò chơi, thống kê số lần chơi thắng/thua"
      ],
      "metadata": {
        "id": "Iqvx3TZPuZjb"
      }
    },
    {
      "cell_type": "code",
      "execution_count": null,
      "metadata": {
        "id": "yb6k4gO-tcKD"
      },
      "outputs": [],
      "source": [
        "import random\n",
        "\n",
        "def choose_level():\n",
        "  pass\n",
        "\n",
        "def game_guess_number():\n",
        "  pass\n",
        "\n",
        "if __name__ == \"__main__\":\n",
        "  pass"
      ]
    }
  ]
}