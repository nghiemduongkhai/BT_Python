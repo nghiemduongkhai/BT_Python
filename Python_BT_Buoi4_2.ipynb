{
  "nbformat": 4,
  "nbformat_minor": 0,
  "metadata": {
    "colab": {
      "provenance": [],
      "authorship_tag": "ABX9TyPBHK8zHPUP5v70F0/i+6bJ",
      "include_colab_link": true
    },
    "kernelspec": {
      "name": "python3",
      "display_name": "Python 3"
    },
    "language_info": {
      "name": "python"
    }
  },
  "cells": [
    {
      "cell_type": "markdown",
      "metadata": {
        "id": "view-in-github",
        "colab_type": "text"
      },
      "source": [
        "<a href=\"https://colab.research.google.com/github/nghiemduongkhai/BT_Python/blob/main/Python_BT_Buoi4_2.ipynb\" target=\"_parent\"><img src=\"https://colab.research.google.com/assets/colab-badge.svg\" alt=\"Open In Colab\"/></a>"
      ]
    },
    {
      "cell_type": "markdown",
      "source": [
        "# Viết 1 game Tài xỉu dưa trên nguyên tắc gieo 2 con xúc sắc ngẫu nhiên.\n",
        "\n",
        "Nếu tổng giá trị của 2 con xúc sắc > 5, gọi là \"Tài\"\n",
        "\n",
        "Còn không, gọi là \"Xỉu\"\n",
        "\n",
        "Cho người dùng chọn 1 trong 2 trạng thái Tài hoặc Xỉu.\n",
        "\n",
        "So sánh kết quả.\n",
        "\n",
        "Hỏi người chơi có tiếp tục không? Nếu có thì chơi tiếp cho dến khi người dùng chọn không.\n",
        "\n",
        "Mở rộng:\n",
        "\n",
        "    1. Bắt đầu chơi, cho người dùng 1 số tiền là 100,000. Số tiền cược của mỗi lần chơi là 10,000.\n",
        "    Sau khi người dùng chọn không chơi tiếp hoặc hết tiền thì ngưng. Sau đó thống kê tiền của người chơi, số ván thắng.\n",
        "    (có thể cho người dùng chọn số tiền đặt cược)\n",
        "\n",
        "    2. Cho phép người dùng cược vào số 5 (3 trạng thái thay vì 2 (Tài/Xỉu).\n",
        "    Nếu người dùng cược đúng thì thắng được 3 lần số tiền cược."
      ],
      "metadata": {
        "id": "-1ks5esi-vx6"
      }
    },
    {
      "cell_type": "code",
      "execution_count": null,
      "metadata": {
        "id": "q3Su3Jib9jXT"
      },
      "outputs": [],
      "source": [
        "import random\n",
        "\n",
        "def game_dice_betting():\n",
        "  pass\n",
        "\n",
        "\n",
        "if __name__ == \"__main__\":\n",
        "  game_dice_betting()"
      ]
    }
  ]
}