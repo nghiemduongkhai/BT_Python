{
  "nbformat": 4,
  "nbformat_minor": 0,
  "metadata": {
    "colab": {
      "provenance": [],
      "authorship_tag": "ABX9TyMgYkD3fxl5zr2/SJqQWMb4",
      "include_colab_link": true
    },
    "kernelspec": {
      "name": "python3",
      "display_name": "Python 3"
    },
    "language_info": {
      "name": "python"
    }
  },
  "cells": [
    {
      "cell_type": "markdown",
      "metadata": {
        "id": "view-in-github",
        "colab_type": "text"
      },
      "source": [
        "<a href=\"https://colab.research.google.com/github/nghiemduongkhai/BT_Python/blob/main/Python_BT_Buoi4_2.ipynb\" target=\"_parent\"><img src=\"https://colab.research.google.com/assets/colab-badge.svg\" alt=\"Open In Colab\"/></a>"
      ]
    },
    {
      "cell_type": "markdown",
      "source": [
        "# Viết 1 game Tài xỉu dưa trên nguyên tắc gieo 2 con xúc sắc ngẫu nhiên.\n",
        "\n",
        "Nếu tổng giá trị của 2 con xúc sắc > 7, gọi là \"Tài\"\n",
        "\n",
        "Còn không, gọi là \"Xỉu\"\n",
        "\n",
        "Cho người dùng chọn 1 trong 2 trạng thái Tài hoặc Xỉu.\n",
        "\n",
        "So sánh kết quả.\n",
        "\n",
        "Hỏi người chơi có tiếp tục không? Nếu có thì chơi tiếp cho dến khi người dùng chọn không.\n",
        "\n",
        "Mở rộng:\n",
        "\n",
        "    1. Bắt đầu chơi, cho người dùng 1 số tiền là 100,000. Số tiền cược của mỗi lần chơi là 10,000.\n",
        "    Sau khi người dùng chọn không chơi tiếp hoặc hết tiền thì ngưng. Sau đó thống kê tiền của người chơi, số ván thắng.\n",
        "    (có thể cho người dùng chọn số tiền đặt cược)\n",
        "\n",
        "    2. Cho phép người dùng cược vào số 7 (3 trạng thái thay vì 2 (Tài/Xỉu).\n",
        "    Nếu người dùng cược đúng thì thắng được 3 lần số tiền cược."
      ],
      "metadata": {
        "id": "-1ks5esi-vx6"
      }
    },
    {
      "cell_type": "code",
      "execution_count": 35,
      "metadata": {
        "id": "q3Su3Jib9jXT",
        "colab": {
          "base_uri": "https://localhost:8080/"
        },
        "outputId": "a88648d7-996c-4894-a79c-64a83a9e4928"
      },
      "outputs": [
        {
          "output_type": "stream",
          "name": "stdout",
          "text": [
            "4\n",
            "Bạn có 100000 VND để chơi.\n",
            "Bạn muốn cược bao nhiêu tiền? (Tối đa: 100000 - Tối thiểu: 10000): 100000\n",
            "Chọn Tài(T/t), Xỉu(X/x) or số 7: t\n",
            "Rất tiếc bạn đã thua!\n",
            "Tổng số tiền bạn có: 0 VND \n",
            "\n",
            "Bạn không còn đủ tiền cược!!!\n"
          ]
        }
      ],
      "source": [
        "import random\n",
        "\n",
        "def game_dice_betting(money):\n",
        "  dic_1 = random.randint(1, 6)\n",
        "  dic_2 = random.randint(1, 6)\n",
        "  print(dic_1 + dic_2)\n",
        "\n",
        "  while True:\n",
        "    print(f\"Bạn có {money} VND để chơi.\")\n",
        "    bet = input(f\"Bạn muốn cược bao nhiêu tiền? (Tối đa: {money} - Tối thiểu: 10000): \")\n",
        "    if bet.isdigit() and 10000 <= int(bet) <= money:\n",
        "      bet = int(bet)\n",
        "      break\n",
        "    else:\n",
        "      print(\"Số tiền đặt cược không hợp lệ. Vui lòng nhập lại. \\n\")\n",
        "\n",
        "  while True:\n",
        "    choose = input(\"Chọn Tài(T/t), Xỉu(X/x) or số 7: \").lower()\n",
        "    if choose == \"t\" or choose == \"x\" or choose == \"7\":\n",
        "      break\n",
        "    else:\n",
        "      print(\"Lựa chọn không hợp lệ. Vui lòng chọn lại. \\n\")\n",
        "\n",
        "  if dic_1 + dic_2 > 7:\n",
        "    result = \"t\"\n",
        "  elif dic_1 + dic_2 == 7:\n",
        "    result = \"7\"\n",
        "  else:\n",
        "    result = \"x\"\n",
        "\n",
        "  if choose == result:\n",
        "    money += bet\n",
        "    print(\"Chúc mừng bạn đã thắng!\")\n",
        "    print(f\"Tổng số tiền bạn có: {money} VND \\n\")\n",
        "  else:\n",
        "    money -= bet\n",
        "    print(\"Rất tiếc bạn đã thua!\")\n",
        "    print(f\"Tổng số tiền bạn có: {money} VND \\n\")\n",
        "  return money\n",
        "\n",
        "if __name__ == \"__main__\":\n",
        "  money = 100000\n",
        "  while money >= 10000:\n",
        "      money = game_dice_betting(money)\n",
        "      if money >= 10000:\n",
        "        response = input(\"Bạn muốn chơi tiếp ? <n/N để dừng> - \").lower()\n",
        "        if response == \"n\":\n",
        "          break\n",
        "      else:\n",
        "        print(\"Bạn không còn đủ tiền cược!!!\")\n",
        "        break"
      ]
    }
  ]
}