{
  "nbformat": 4,
  "nbformat_minor": 0,
  "metadata": {
    "colab": {
      "provenance": [],
      "authorship_tag": "ABX9TyNYyC0u5at4el8Nx3/ptmDe",
      "include_colab_link": true
    },
    "kernelspec": {
      "name": "python3",
      "display_name": "Python 3"
    },
    "language_info": {
      "name": "python"
    }
  },
  "cells": [
    {
      "cell_type": "markdown",
      "metadata": {
        "id": "view-in-github",
        "colab_type": "text"
      },
      "source": [
        "<a href=\"https://colab.research.google.com/github/nghiemduongkhai/BT_Python/blob/main/Python_BT_Buoi5.ipynb\" target=\"_parent\"><img src=\"https://colab.research.google.com/assets/colab-badge.svg\" alt=\"Open In Colab\"/></a>"
      ]
    },
    {
      "cell_type": "markdown",
      "source": [
        "# 1. Write a Python program to sum all the items in a list."
      ],
      "metadata": {
        "id": "sY0trt-UuXMg"
      }
    },
    {
      "cell_type": "code",
      "execution_count": 1,
      "metadata": {
        "id": "hH8u5hgct3v4",
        "colab": {
          "base_uri": "https://localhost:8080/"
        },
        "outputId": "440475ee-2821-40fe-e966-e9d596b887d4"
      },
      "outputs": [
        {
          "output_type": "execute_result",
          "data": {
            "text/plain": [
              "15"
            ]
          },
          "metadata": {},
          "execution_count": 1
        }
      ],
      "source": [
        "list1 = [1,2,3,4,5]\n",
        "sum(list1)"
      ]
    },
    {
      "cell_type": "markdown",
      "source": [
        "# 2. Write a Python program to multiply all the items in a list.\n"
      ],
      "metadata": {
        "id": "0PRawanVRpn1"
      }
    },
    {
      "cell_type": "code",
      "source": [
        "list2 = [1,2,3,4,5]\n",
        "result = 1\n",
        "for i in list2:\n",
        "  result = result * i\n",
        "print(result)"
      ],
      "metadata": {
        "colab": {
          "base_uri": "https://localhost:8080/"
        },
        "id": "xdQQJkhZRrxd",
        "outputId": "162e04a6-17bf-4fd7-add2-ad4b39ef66c6"
      },
      "execution_count": 2,
      "outputs": [
        {
          "output_type": "stream",
          "name": "stdout",
          "text": [
            "120\n"
          ]
        }
      ]
    },
    {
      "cell_type": "markdown",
      "source": [
        "# 3. Write a Python program to get the largest number from a list.\n"
      ],
      "metadata": {
        "id": "HmYcIVgIRsJt"
      }
    },
    {
      "cell_type": "code",
      "source": [
        "list3 = [1,2,3,4,5,9]\n",
        "max(list3)"
      ],
      "metadata": {
        "colab": {
          "base_uri": "https://localhost:8080/"
        },
        "id": "KZ226GZNRuC8",
        "outputId": "773a5781-3ef8-426c-9cbb-3bba18582306"
      },
      "execution_count": 4,
      "outputs": [
        {
          "output_type": "execute_result",
          "data": {
            "text/plain": [
              "9"
            ]
          },
          "metadata": {},
          "execution_count": 4
        }
      ]
    },
    {
      "cell_type": "markdown",
      "source": [
        "# 4. Write a Python program to get the smallest number from a list.\n"
      ],
      "metadata": {
        "id": "s8cCOQF8RuY2"
      }
    },
    {
      "cell_type": "code",
      "source": [
        "list4 = [2,3,4,5,9]\n",
        "min(list4)"
      ],
      "metadata": {
        "colab": {
          "base_uri": "https://localhost:8080/"
        },
        "id": "sAO6kEkvRwyk",
        "outputId": "6d676b27-6d97-4e86-8793-d079126708a6"
      },
      "execution_count": 6,
      "outputs": [
        {
          "output_type": "execute_result",
          "data": {
            "text/plain": [
              "2"
            ]
          },
          "metadata": {},
          "execution_count": 6
        }
      ]
    },
    {
      "cell_type": "markdown",
      "source": [
        "# 5. Write a Python program to count the number of strings from a given list of strings. The string length is 2 or more and the first and last characters are the same.\n",
        "Sample List : ['abc', 'xyz', 'aba', '1221']\n",
        "\n",
        "Expected Result : 2"
      ],
      "metadata": {
        "id": "fhpsWs0eRxDs"
      }
    },
    {
      "cell_type": "code",
      "source": [
        "list5 = ['abc', 'xyz', 'aba', '1221']\n",
        "count = 0\n",
        "for i in list5:\n",
        "  if len(i) >= 2 and i[0] == i[-1]:\n",
        "    count += 1\n",
        "print(count)"
      ],
      "metadata": {
        "colab": {
          "base_uri": "https://localhost:8080/"
        },
        "id": "uZ0w4qwCRx7U",
        "outputId": "b5ecb159-98b4-4ceb-dde6-d212757acd02"
      },
      "execution_count": 8,
      "outputs": [
        {
          "output_type": "stream",
          "name": "stdout",
          "text": [
            "2\n"
          ]
        }
      ]
    }
  ]
}