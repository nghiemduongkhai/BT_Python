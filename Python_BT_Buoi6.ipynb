{
  "nbformat": 4,
  "nbformat_minor": 0,
  "metadata": {
    "colab": {
      "provenance": [],
      "authorship_tag": "ABX9TyPoO8YU5LZlOPWQvMCYVe9h",
      "include_colab_link": true
    },
    "kernelspec": {
      "name": "python3",
      "display_name": "Python 3"
    },
    "language_info": {
      "name": "python"
    }
  },
  "cells": [
    {
      "cell_type": "markdown",
      "metadata": {
        "id": "view-in-github",
        "colab_type": "text"
      },
      "source": [
        "<a href=\"https://colab.research.google.com/github/nghiemduongkhai/BT_Python/blob/main/Python_BT_Buoi6.ipynb\" target=\"_parent\"><img src=\"https://colab.research.google.com/assets/colab-badge.svg\" alt=\"Open In Colab\"/></a>"
      ]
    },
    {
      "cell_type": "markdown",
      "source": [
        "**Tuple**\n",
        "\n",
        "1. to create a tuple of numbers and print one item.\n",
        "2. to unpack a tuple into several variables.\n",
        "3. to add an item to a tuple.\n",
        "4. to find the index of an item in a tuple.\n",
        "5. to find the repeated items of a tuple"
      ],
      "metadata": {
        "id": "0I0ne-1y8OxU"
      }
    },
    {
      "cell_type": "code",
      "execution_count": 1,
      "metadata": {
        "id": "N8jEoCbG8DeF",
        "colab": {
          "base_uri": "https://localhost:8080/"
        },
        "outputId": "e57af46e-c068-4ae2-df4a-f6bd8c29650d"
      },
      "outputs": [
        {
          "output_type": "stream",
          "name": "stdout",
          "text": [
            "3\n"
          ]
        }
      ],
      "source": [
        "numbers = (1, 2, 3, 4, 5)\n",
        "print(numbers[2])"
      ]
    },
    {
      "cell_type": "code",
      "source": [
        "num = (1, 2)\n",
        "a, b = num\n",
        "print(a)\n",
        "print(b)"
      ],
      "metadata": {
        "colab": {
          "base_uri": "https://localhost:8080/"
        },
        "id": "tzhVIF6bexhz",
        "outputId": "b960cabb-7dab-4e23-c706-58815e771cf0"
      },
      "execution_count": 7,
      "outputs": [
        {
          "output_type": "stream",
          "name": "stdout",
          "text": [
            "1\n",
            "2\n"
          ]
        }
      ]
    },
    {
      "cell_type": "code",
      "source": [
        "num = (1, 2, 3)\n",
        "new_num = 4\n",
        "num += (new_num,)\n",
        "print(num)"
      ],
      "metadata": {
        "colab": {
          "base_uri": "https://localhost:8080/"
        },
        "id": "IBvgjRxvfjdW",
        "outputId": "716e78a7-45d7-4434-edaa-df294941c4f5"
      },
      "execution_count": 8,
      "outputs": [
        {
          "output_type": "stream",
          "name": "stdout",
          "text": [
            "(1, 2, 3, 4)\n"
          ]
        }
      ]
    },
    {
      "cell_type": "code",
      "source": [
        "num = (\"một\", \"hai\", \"ba\")\n",
        "index = num.index(\"hai\")\n",
        "print(index)"
      ],
      "metadata": {
        "colab": {
          "base_uri": "https://localhost:8080/"
        },
        "id": "KVHbad5_gDS6",
        "outputId": "307a6b07-b3ef-4212-cb6e-6f3cbb94f303"
      },
      "execution_count": 10,
      "outputs": [
        {
          "output_type": "stream",
          "name": "stdout",
          "text": [
            "1\n"
          ]
        }
      ]
    },
    {
      "cell_type": "code",
      "source": [
        "num = (1, 2, 4, 5, 2, 1, 3, 4)\n",
        "repeated = set([item for item in num if num.count(item) > 1])\n",
        "print(repeated)"
      ],
      "metadata": {
        "colab": {
          "base_uri": "https://localhost:8080/"
        },
        "id": "rkmsFAh-gDuZ",
        "outputId": "9a7f74a8-b935-4137-cf2f-fe235485fffb"
      },
      "execution_count": 12,
      "outputs": [
        {
          "output_type": "stream",
          "name": "stdout",
          "text": [
            "{1, 2, 4}\n"
          ]
        }
      ]
    },
    {
      "cell_type": "markdown",
      "source": [
        "**Set**\n",
        "\n",
        "1. Write a Python program to find the maximum and minimum values in a set.\n",
        "2. Write a Python program to check if a given value is present in a set or not.\n",
        "3. Write a Python program to check if two given sets have no elements in common.\n",
        "4. Write a Python program to find all the unique words and count the frequency of occurrence from a given list of strings. Use Python set data type.\n",
        "5. Given two sets of numbers, write a Python program to find the missing numbers in the second set as compared to the first and vice versa. Use the Python set."
      ],
      "metadata": {
        "id": "yGEZkEMNc3K-"
      }
    },
    {
      "cell_type": "code",
      "source": [
        "num = {1, 2, 3, 4, 5}\n",
        "print(f\"Max: {max(num)}\")\n",
        "print(f\"Min: {min(num)}\")\n",
        "\n",
        "value = int(input(\"Enter a value: \"))\n",
        "if value in num:\n",
        "    print(\"Present\")\n",
        "else:\n",
        "    print(\"Not present\")"
      ],
      "metadata": {
        "colab": {
          "base_uri": "https://localhost:8080/"
        },
        "id": "IIWXA7-Qc3pt",
        "outputId": "6a39ab1c-6453-4617-9f18-92da5abad6c8"
      },
      "execution_count": 17,
      "outputs": [
        {
          "output_type": "stream",
          "name": "stdout",
          "text": [
            "Max: 5\n",
            "Min: 1\n",
            "Enter a value: 8\n",
            "Not present\n"
          ]
        }
      ]
    },
    {
      "cell_type": "code",
      "source": [
        "set_1 = {1, 2, 3, 5}\n",
        "set_2 = {6, 8, 7}\n",
        "if set_1.isdisjoint(set_2):\n",
        "    print(\"No elements in common\")\n",
        "else:\n",
        "    print(\"Has elements in common\")"
      ],
      "metadata": {
        "colab": {
          "base_uri": "https://localhost:8080/"
        },
        "id": "FUogtupih-ym",
        "outputId": "ec4bb773-4c42-4f53-af37-19238c6b5a21"
      },
      "execution_count": 19,
      "outputs": [
        {
          "output_type": "stream",
          "name": "stdout",
          "text": [
            "No elements in common\n"
          ]
        }
      ]
    },
    {
      "cell_type": "code",
      "source": [
        "num = [\"một\", \"hai\", \"ba\", \"một\", \"bốn\", \"một\"]\n",
        "unique_words = set(num)\n",
        "print(\"Unique words:\", unique_words)\n",
        "\n",
        "for word in unique_words:\n",
        "    count = num.count(word)\n",
        "    print(f\"{word}: {count} times\")"
      ],
      "metadata": {
        "colab": {
          "base_uri": "https://localhost:8080/"
        },
        "id": "SAOUYkTsi82u",
        "outputId": "417be2a3-056c-40b3-9488-c562b5762b18"
      },
      "execution_count": 26,
      "outputs": [
        {
          "output_type": "stream",
          "name": "stdout",
          "text": [
            "Unique words: {'ba', 'một', 'bốn', 'hai'}\n",
            "ba: 1 times\n",
            "một: 3 times\n",
            "bốn: 1 times\n",
            "hai: 1 times\n"
          ]
        }
      ]
    },
    {
      "cell_type": "code",
      "source": [
        "set_1 = {1, 2, 3, 4, 5}\n",
        "set_2 = {4, 5, 6, 7}\n",
        "missing_in_1 = set_2 - set_1\n",
        "missing_in_2 = set_1 - set_2\n",
        "\n",
        "print(\"Missing in set 1:\", missing_in_1)\n",
        "print(\"Missing in set 2:\", missing_in_2)"
      ],
      "metadata": {
        "colab": {
          "base_uri": "https://localhost:8080/"
        },
        "id": "ofax8Ot7kWBA",
        "outputId": "e5af6e0f-cdcb-4344-f41a-491a0d70581e"
      },
      "execution_count": 28,
      "outputs": [
        {
          "output_type": "stream",
          "name": "stdout",
          "text": [
            "Missing in set 1: {6, 7}\n",
            "Missing in set 2: {1, 2, 3}\n"
          ]
        }
      ]
    },
    {
      "cell_type": "markdown",
      "source": [
        "**Dict**\n",
        "\n",
        "Write python program:\n",
        "1. Convert two lists into a dictionary\n",
        "2. Merge two Python dictionaries into one\n",
        "3. Print the value of key ‘history’ from the below dict\n",
        "4. Initialize dictionary with default values\n",
        "5. Create a dictionary by extracting the keys from a given dictionary\n",
        "6. Delete a list of keys from a dictionary\n",
        "7. Check if a value exists in a dictionary\n",
        "8. Rename key of a dictionary\n",
        "9. Get the key of a minimum value from the following dictionary\n",
        "10. Change value of a key in a nested dictionary\n",
        "11. Counts the number of times characters appear in a text paragraph.\n",
        "12. Using a dictionary containing keys starting from 1 and values ​​containing prime numbers less than a value N."
      ],
      "metadata": {
        "id": "wHQyhu_lc3_M"
      }
    },
    {
      "cell_type": "code",
      "source": [
        "#1.\n",
        "keys = ['name', 'age', 'gender']\n",
        "values = ['An', 21, 'male']\n",
        "person = dict(zip(keys, values))\n",
        "print(\"1. Dictionary from two lists:\", person)\n",
        "#2.\n",
        "dict_1 = {'a': 1, 'b': 2}\n",
        "dict_2 = {'c': 3, 'd': 4}\n",
        "merged = {**dict_1, **dict_2}\n",
        "print(\"2. Merged dictionary:\", merged)\n",
        "#3.\n",
        "sample = {'history': 9, 'math': 10}\n",
        "print(\"3. Value of 'history':\", sample['history'])\n",
        "#4\n",
        "keys = ['a', 'b', 'c']\n",
        "default_value = 0\n",
        "my_dict = dict.fromkeys(keys, default_value)\n",
        "print(\"4. Initialized dict:\", my_dict)\n",
        "#5\n",
        "original_dict = {'a': 1, 'b': 2, 'c': 3, 'd': 4}\n",
        "extracted_keys = ['b', 'c']\n",
        "extracted_dict = {key: original_dict[key] for key in extracted_keys}\n",
        "print(\"5. Extracted dict:\", extracted_dict)\n",
        "#6\n",
        "original_dict = {'a': 1, 'b': 2, 'c': 3, 'd': 4}\n",
        "keys_to_delete = ['a', 'c']\n",
        "for key in keys_to_delete:\n",
        "    if key in original_dict:\n",
        "        original_dict.pop(key, None)\n",
        "print(\"6. Dictionary after deleting keys:\", original_dict)"
      ],
      "metadata": {
        "colab": {
          "base_uri": "https://localhost:8080/"
        },
        "id": "zbrGeS9jc4ZN",
        "outputId": "df7733f4-1614-4f5d-e087-dee4b0097862"
      },
      "execution_count": 38,
      "outputs": [
        {
          "output_type": "stream",
          "name": "stdout",
          "text": [
            "1. Dictionary from two lists: {'name': 'An', 'age': 21, 'gender': 'male'}\n",
            "2. Merged dictionary: {'a': 1, 'b': 2, 'c': 3, 'd': 4}\n",
            "3. Value of 'history': 9\n",
            "4. Initialized dict: {'a': 0, 'b': 0, 'c': 0}\n",
            "5. Extracted dict: {'b': 2, 'c': 3}\n",
            "6. Dictionary after deleting keys: {'b': 2, 'd': 4}\n"
          ]
        }
      ]
    },
    {
      "cell_type": "markdown",
      "source": [
        "**Restructuring the company data:**\n",
        "\n",
        "Suppose you have a dictionary that contains information about employees at a company. Each employee is identified by an ID number, and their information includes their name, department, and salary. You want to create a nested dictionary that groups employees by department so that you can easily see the names and salaries of all employees in each department.\n",
        "\n",
        "Write a Python program that when given a dictionary, employees, outputs a nested dictionary, dept_employees, which groups employees by department."
      ],
      "metadata": {
        "id": "FhyDHrZXdkpD"
      }
    },
    {
      "cell_type": "code",
      "source": [],
      "metadata": {
        "id": "coO6eNvGdlAJ"
      },
      "execution_count": null,
      "outputs": []
    }
  ]
}